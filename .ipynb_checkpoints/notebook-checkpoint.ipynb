{
 "cells": [
  {
   "cell_type": "markdown",
   "id": "6fac031a-df9e-4e09-a534-696712aecf8f",
   "metadata": {},
   "source": [
    "### References:\n",
    "* https://flask-sqlalchemy.readthedocs.io/en/stable/\n",
    "* https://docs.sqlalchemy.org/en/20/orm/inheritance.html#concrete-table-inheritance\n",
    "* https://docs.sqlalchemy.org/en/20/_modules/examples/performance/bulk_inserts.html\n",
    "* https://docs.sqlalchemy.org/en/20/orm/large_collections.html#bulk-insert-of-new-items\n",
    "* https://docs.sqlalchemy.org/en/20/orm/extensions/asyncio.html"
   ]
  },
  {
   "cell_type": "markdown",
   "id": "549210ef-e66e-4461-9dd3-7a1a1f1d04f7",
   "metadata": {},
   "source": [
    "## Refactoring notes"
   ]
  },
  {
   "cell_type": "markdown",
   "id": "9f3b9e2d-6f5a-4e09-a561-b029b2194010",
   "metadata": {},
   "source": [
    "- Dans l'objet PremiumFile, il manque la relation à une analyse (mais la table d'association existe bien) :"
   ]
  },
  {
   "cell_type": "markdown",
   "id": "0b735abf-95e8-4058-9e72-4c8018dcd9dd",
   "metadata": {},
   "source": [
    "```python\n",
    "class PremiumFile(CommonMixin, Base):\n",
    "    \"\"\"Represents a historical premium file.\"\"\"\n",
    "    id: Mapped[int] = mapped_column(primary_key=True)\n",
    "    client_id: Mapped[int] = mapped_column(ForeignKey(\"client.id\"))\n",
    "    client: Mapped[\"Client\"] = relationship(back_populates=\"premiumfiles\")\n",
    "\n",
    "    # TODO: To be added\n",
    "    analyses: Mapped[List[Analysis]] = relationship(\n",
    "        secondary=lambda: analysis_premiumfile_table, back_populates=\"premiumfiles\"\n",
    "    )\n",
    "```"
   ]
  },
  {
   "attachments": {},
   "cell_type": "markdown",
   "id": "d0b18cfc-7e7e-431a-847f-2765019ef6c4",
   "metadata": {},
   "source": [
    "- Tester les suppressions d'objets\n",
    "- The relationship between a frequency severity model and the input premium file is missing :"
   ]
  },
  {
   "cell_type": "markdown",
   "id": "3b421cd3-d121-46a0-ad91-4bd064bd2642",
   "metadata": {},
   "source": [
    "```python\n",
    "class FrequencySeverityModel(ModelFile):\n",
    "    id: Mapped[int] = mapped_column(ForeignKey(\"modelfile.id\"), primary_key=True)\n",
    "    threshold: Mapped[int] = mapped_column(nullable=False)\n",
    "    lossfile_id: Mapped[int] = mapped_column(ForeignKey(\"histolossfile.id\"))\n",
    "    lossfile: Mapped[\"HistoLossFile\"] = relationship()\n",
    "    premiumfile_id: Mapped[int] = mapped_column(ForeignKey(\"premiumfile.id\"))  # TODO: To be added\n",
    "    premiumfile: Mapped[\"PremiumFile\"] = relationship()  # TODO: To be added\n",
    "```"
   ]
  },
  {
   "attachments": {},
   "cell_type": "markdown",
   "id": "f45ca9ca-3d92-45ed-97d4-c1e7130273a2",
   "metadata": {},
   "source": [
    "- The back-relationship were missing for handling properly session.delete(histolossfile) :"
   ]
  },
  {
   "cell_type": "markdown",
   "id": "12788cb3-ca8f-4534-97b2-4ea3fca4e51b",
   "metadata": {},
   "source": [
    "```python\n",
    "class Analysis(CommonMixin, Base):\n",
    "    id: Mapped[int] = mapped_column(primary_key=True)\n",
    "    client_id: Mapped[int] = mapped_column(ForeignKey(\"client.id\"), nullable=False)\n",
    "    client: Mapped[\"Client\"] = relationship(back_populates=\"analyses\")\n",
    "    \n",
    "    histolossfiles: Mapped[List[\"HistoLossFile\"]] = relationship(\n",
    "        secondary=lambda: analysis_histolossfile_table, back_populates=\"analyses\"\n",
    "    )\n",
    "    modelfiles: Mapped[List[\"ModelFile\"]] = relationship(\n",
    "        secondary=lambda: analysis_modelfile_table, back_populates=\"analyses\"\n",
    "    )\n",
    "    \n",
    "class HistoLossFile(CommonMixin, Base):\n",
    "    analyses: Mapped[List[Analysis]] = relationship(\n",
    "        secondary=lambda: analysis_histolossfile_table, back_populates=\"histolossfiles\"\n",
    "    )\n",
    "\n",
    "class ModelFile(CommonMixin, Base):\n",
    "    id: Mapped[int] = mapped_column(primary_key=True)\n",
    "    model_type: Mapped[str] = mapped_column(String(50), nullable=False)\n",
    "    years_simulated: Mapped[int] = mapped_column(nullable=False)\n",
    "    \n",
    "    client_id: Mapped[int] = mapped_column(ForeignKey(\"client.id\"), nullable=False)\n",
    "    client: Mapped[\"Client\"] = relationship(back_populates=\"modelfiles\")\n",
    "    \n",
    "    yearlosses: Mapped[List[\"ModelYearLoss\"]] = relationship(\n",
    "        back_populates=\"modelfile\",\n",
    "        cascade=\"all, delete-orphan\",\n",
    "    )\n",
    "    \n",
    "    analyses: Mapped[List[Analysis]] = relationship(\n",
    "        secondary=lambda: analysis_modelfile_table, back_populates=\"modelfiles\"\n",
    "    )\n",
    "```"
   ]
  },
  {
   "cell_type": "markdown",
   "id": "e162c4ef-7963-421d-98ee-8eb5d82d2283",
   "metadata": {},
   "source": [
    "- The Pydantic classes FrequencyInput and SeverityInput need to be reviewed and refactored\n",
    "- The attribute treshold is missing in the FrequencyModel class => No, it's normal!\n",
    "- Start frequency and severity models parameters with index 0\n",
    "- The threshold of frequency and severity models is that of the related frequency_severity_model => Remove attribute threshold from severity model\n",
    "- Use ModelType in polymorphic identity"
   ]
  },
  {
   "cell_type": "markdown",
   "id": "fe54af16-f6a3-49d4-b4c2-e86a16d8329c",
   "metadata": {},
   "source": [
    "- Confusion entre input et output (cf. https://gitlab.com/ccr-re-df/products/app/backends/tarification-nonvie-backend/-/blob/dev/app/api/routes/model.py) :"
   ]
  },
  {
   "cell_type": "markdown",
   "id": "c6269ea9-27b7-4683-98f8-536aaf5d372d",
   "metadata": {},
   "source": [
    "```python\n",
    "async def generate_stochastic_year_loss_table_and_metadata(\n",
    "    frequence_model_input: FrequencyModelOutput,\n",
    "    severity_model_input: SeverityModelOutput,\n",
    "    frequence_severity_model_input: FrequencySeverityModelInputExtend,\n",
    "    threshold_input: float,\n",
    "    analysis_id: int,\n",
    "    user_id: int,\n",
    "    lossfile_id: int,\n",
    "    injected_model_service: ModelServiceDep,\n",
    ") -> StochasticModelRouteResponse:\n",
    "```"
   ]
  },
  {
   "cell_type": "markdown",
   "id": "39d08190-79d0-42a3-8372-a008665f9d85",
   "metadata": {},
   "source": [
    "- Finally, create **specific** issues in Jira"
   ]
  },
  {
   "cell_type": "markdown",
   "id": "d5fd4bb3-3492-4dd5-95f9-bf2380809997",
   "metadata": {},
   "source": [
    "## Test Engine"
   ]
  },
  {
   "cell_type": "code",
   "execution_count": 1,
   "id": "d3419ccd-9220-4e19-a851-ca33b5190946",
   "metadata": {},
   "outputs": [],
   "source": [
    "import time\n",
    "\n",
    "from engine.model.frequency_severity import (\n",
    "    DistributionInput,\n",
    "    DistributionType,\n",
    "    get_modelyearloss_frequency_severity,\n",
    ")"
   ]
  },
  {
   "cell_type": "code",
   "execution_count": 2,
   "id": "e5ecd867-201c-4729-8d42-2bfa52208eac",
   "metadata": {},
   "outputs": [
    {
     "name": "stdout",
     "output_type": "stream",
     "text": [
      "Duration = 0.1773916999809444\n",
      "Average Loss = 1986.6839583027847\n",
      "Frequency = 3.00068\n",
      "shape: (300_068, 11)\n",
      "┌───────┬─────┬──────┬───────────┬───┬────────────┬────────┬──────────────────┬──────────────┐\n",
      "│ year  ┆ day ┆ loss ┆ loss_type ┆ … ┆ model_hash ┆ model  ┆ line_of_business ┆ modelfile_id │\n",
      "│ ---   ┆ --- ┆ ---  ┆ ---       ┆   ┆ ---        ┆ ---    ┆ ---              ┆ ---          │\n",
      "│ i64   ┆ i32 ┆ i64  ┆ str       ┆   ┆ object     ┆ object ┆ object           ┆ i64          │\n",
      "╞═══════╪═════╪══════╪═══════════╪═══╪════════════╪════════╪══════════════════╪══════════════╡\n",
      "│ 0     ┆ 152 ┆ 1534 ┆ cat       ┆ … ┆ null       ┆ null   ┆ null             ┆ 1            │\n",
      "│ 0     ┆ 261 ┆ 1232 ┆ cat       ┆ … ┆ null       ┆ null   ┆ null             ┆ 1            │\n",
      "│ 0     ┆ 91  ┆ 1699 ┆ cat       ┆ … ┆ null       ┆ null   ┆ null             ┆ 1            │\n",
      "│ 0     ┆ 91  ┆ 1923 ┆ non_cat   ┆ … ┆ null       ┆ null   ┆ null             ┆ 1            │\n",
      "│ 1     ┆ 61  ┆ 1000 ┆ cat       ┆ … ┆ null       ┆ null   ┆ null             ┆ 1            │\n",
      "│ …     ┆ …   ┆ …    ┆ …         ┆ … ┆ …          ┆ …      ┆ …                ┆ …            │\n",
      "│ 99999 ┆ 142 ┆ 1257 ┆ non_cat   ┆ … ┆ null       ┆ null   ┆ null             ┆ 1            │\n",
      "│ 99999 ┆ 232 ┆ 1126 ┆ non_cat   ┆ … ┆ null       ┆ null   ┆ null             ┆ 1            │\n",
      "│ 99999 ┆ 69  ┆ 1653 ┆ cat       ┆ … ┆ null       ┆ null   ┆ null             ┆ 1            │\n",
      "│ 99999 ┆ 249 ┆ 5341 ┆ cat       ┆ … ┆ null       ┆ null   ┆ null             ┆ 1            │\n",
      "│ 99999 ┆ 172 ┆ 1352 ┆ cat       ┆ … ┆ null       ┆ null   ┆ null             ┆ 1            │\n",
      "└───────┴─────┴──────┴───────────┴───┴────────────┴────────┴──────────────────┴──────────────┘\n"
     ]
    }
   ],
   "source": [
    "threshold = 1000\n",
    "\n",
    "frequency_input = DistributionInput(\n",
    "    dist=DistributionType.POISSON,\n",
    "    threshold=threshold,\n",
    "    params=[3],\n",
    ")\n",
    "\n",
    "severity_input = DistributionInput(\n",
    "    dist=DistributionType.PARETO,\n",
    "    threshold=threshold,\n",
    "    params=[2],\n",
    ")\n",
    "\n",
    "cat_share = 0.5\n",
    "simulated_years = 100_000\n",
    "modelfile_id = 1\n",
    "\n",
    "start = time.perf_counter()\n",
    "\n",
    "modelyearloss = get_modelyearloss_frequency_severity(\n",
    "    frequency_input,\n",
    "    severity_input,\n",
    "    cat_share,\n",
    "    simulated_years,\n",
    "    modelfile_id,\n",
    ")\n",
    "\n",
    "print(f\"Duration = {time.perf_counter() - start}\")\n",
    "print(f\"Average Loss = {modelyearloss[\"loss\"].mean()}\")\n",
    "print(f\"Frequency = {len(modelyearloss[\"loss\"]) / simulated_years}\")\n",
    "print(modelyearloss)"
   ]
  },
  {
   "cell_type": "markdown",
   "id": "4d846cfc-7582-4e2d-9e4d-0c700173f432",
   "metadata": {},
   "source": [
    "## Test Backend"
   ]
  },
  {
   "cell_type": "code",
   "execution_count": 1,
   "id": "fa3ca2d7-9b01-49a0-9eb9-17a2ac38dada",
   "metadata": {},
   "outputs": [],
   "source": [
    "import time\n",
    "\n",
    "from db.crud import (\n",
    "    create_analysis,\n",
    "    create_client,\n",
    "    create_frequency_severity_model,\n",
    "    create_historical_loss_file,\n",
    "    create_premium_file,\n",
    "    delete_db_record,\n",
    ")\n",
    "from db.models import (\n",
    "    Analysis,\n",
    "    Client,\n",
    "    FrequencyModel,\n",
    "    FrequencySeverityModel,\n",
    "    HistoLossFile,\n",
    "    ModelFile,\n",
    "    ModelYearLoss,\n",
    "    PremiumFile,\n",
    "    SeverityModel,\n",
    "    session,\n",
    ")\n",
    "\n",
    "from engine.model.frequency_severity import DistributionInput, DistributionType"
   ]
  },
  {
   "cell_type": "code",
   "execution_count": 2,
   "id": "13d3c58f-6cb1-4f42-9c2c-1e4a4feab07c",
   "metadata": {},
   "outputs": [
    {
     "name": "stdout",
     "output_type": "stream",
     "text": [
      "Client 'AXA' added successfully.\n",
      "Analysis added successfully.\n",
      "Premium file added successfully.\n",
      "Historical loss file added successfully.\n"
     ]
    }
   ],
   "source": [
    "# Create a client, an analysis, a premium file and a historical loss file\n",
    "create_client(session, client_name=\"AXA\")\n",
    "create_analysis(session, client_id=1)\n",
    "create_premium_file(session, analysis_id=1)\n",
    "create_historical_loss_file(session, analysis_id=1)"
   ]
  },
  {
   "cell_type": "code",
   "execution_count": 5,
   "id": "396fc813-c224-4469-b374-3e9c7d6d3b57",
   "metadata": {},
   "outputs": [
    {
     "name": "stdout",
     "output_type": "stream",
     "text": [
      "Time to create model file: 0.01 seconds\n",
      "Time to flush the session: 0.00 seconds\n",
      "Time to generate year loss data: 0.09 seconds\n",
      "Time to insert year loss records into database: 3.42 seconds\n",
      "Time to commit transaction: 0.04 seconds\n",
      "Frequency-Severity Model created successfully.\n",
      "Total Duration = 3.577747599920258\n"
     ]
    }
   ],
   "source": [
    "# Create a frequency-severity model\n",
    "start = time.perf_counter()\n",
    "create_frequency_severity_model(\n",
    "    session,\n",
    "    analysis_id=1,\n",
    "    lossfile_id=1,\n",
    "    premiumfile_id=1,\n",
    "    threshold=1000,\n",
    "    frequency_input=DistributionInput(\n",
    "        dist=DistributionType.POISSON,\n",
    "        threshold=1000,\n",
    "        params=[3, 0, 0, 0, 0],\n",
    "    ),\n",
    "    severity_input=DistributionInput(\n",
    "        dist=DistributionType.PARETO,\n",
    "        threshold=1000,\n",
    "        params=[2, 0, 0, 0, 0],\n",
    "    ),\n",
    "    cat_share=0.5,\n",
    "    years_simulated=10_000,\n",
    ")\n",
    "\n",
    "duration = time.perf_counter() - start\n",
    "print(f\"Total Duration = {duration}\")"
   ]
  },
  {
   "cell_type": "code",
   "execution_count": 11,
   "id": "648a05f5-94f1-4425-85d3-c0b97e9e2202",
   "metadata": {
    "scrolled": true
   },
   "outputs": [
    {
     "name": "stdout",
     "output_type": "stream",
     "text": [
      "An unexpected error occurred while deleting FrequencyModel record: FrequencyModel record with ID 1 not found.\n"
     ]
    },
    {
     "ename": "ValueError",
     "evalue": "FrequencyModel record with ID 1 not found.",
     "output_type": "error",
     "traceback": [
      "\u001b[1;31m---------------------------------------------------------------------------\u001b[0m",
      "\u001b[1;31mValueError\u001b[0m                                Traceback (most recent call last)",
      "Cell \u001b[1;32mIn[11], line 7\u001b[0m\n\u001b[0;32m      3\u001b[0m DbModel \u001b[38;5;241m=\u001b[39m FrequencyModel\n\u001b[0;32m      4\u001b[0m \u001b[38;5;66;03m# DbModel = SeverityModel\u001b[39;00m\n\u001b[0;32m      5\u001b[0m \u001b[38;5;66;03m# DbModel = FrequencySeverityModel\u001b[39;00m\n\u001b[1;32m----> 7\u001b[0m \u001b[43mdelete_db_record\u001b[49m\u001b[43m(\u001b[49m\u001b[43msession\u001b[49m\u001b[43m,\u001b[49m\u001b[43m \u001b[49m\u001b[43mDbModel\u001b[49m\u001b[43m,\u001b[49m\u001b[43m \u001b[49m\u001b[38;5;241;43m1\u001b[39;49m\u001b[43m)\u001b[49m\n",
      "File \u001b[1;32m~\\Documents\\mywebapps\\train_sqla\\db\\crud.py:326\u001b[0m, in \u001b[0;36mdelete_db_record\u001b[1;34m(session, model, record_id)\u001b[0m\n\u001b[0;32m    324\u001b[0m record \u001b[38;5;241m=\u001b[39m session\u001b[38;5;241m.\u001b[39mget(model, record_id)\n\u001b[0;32m    325\u001b[0m \u001b[38;5;28;01mif\u001b[39;00m \u001b[38;5;129;01mnot\u001b[39;00m record:\n\u001b[1;32m--> 326\u001b[0m     \u001b[38;5;28;01mraise\u001b[39;00m \u001b[38;5;167;01mValueError\u001b[39;00m(\u001b[38;5;124mf\u001b[39m\u001b[38;5;124m\"\u001b[39m\u001b[38;5;132;01m{\u001b[39;00mmodel\u001b[38;5;241m.\u001b[39m\u001b[38;5;18m__name__\u001b[39m\u001b[38;5;132;01m}\u001b[39;00m\u001b[38;5;124m record with ID \u001b[39m\u001b[38;5;132;01m{\u001b[39;00mrecord_id\u001b[38;5;132;01m}\u001b[39;00m\u001b[38;5;124m not found.\u001b[39m\u001b[38;5;124m\"\u001b[39m)\n\u001b[0;32m    328\u001b[0m \u001b[38;5;66;03m# Delete the record\u001b[39;00m\n\u001b[0;32m    329\u001b[0m session\u001b[38;5;241m.\u001b[39mdelete(record)\n",
      "\u001b[1;31mValueError\u001b[0m: FrequencyModel record with ID 1 not found."
     ]
    }
   ],
   "source": [
    "# DbModel = PremiumFile\n",
    "# DbModel = HistoLossFile\n",
    "# DbModel = FrequencyModel\n",
    "# DbModel = SeverityModel\n",
    "# DbModel = FrequencySeverityModel\n",
    "\n",
    "delete_db_record(session, DbModel, 1)"
   ]
  },
  {
   "cell_type": "markdown",
   "id": "57a7e829-4795-48d8-9856-e3d3facf2c13",
   "metadata": {},
   "source": [
    "- Problem with the deletion of frequency and severity models"
   ]
  },
  {
   "cell_type": "code",
   "execution_count": null,
   "id": "153442c4-d952-48af-a3bd-c598cc0cc6a3",
   "metadata": {},
   "outputs": [],
   "source": []
  }
 ],
 "metadata": {
  "kernelspec": {
   "display_name": "Python 3 (ipykernel)",
   "language": "python",
   "name": "python3"
  },
  "language_info": {
   "codemirror_mode": {
    "name": "ipython",
    "version": 3
   },
   "file_extension": ".py",
   "mimetype": "text/x-python",
   "name": "python",
   "nbconvert_exporter": "python",
   "pygments_lexer": "ipython3",
   "version": "3.12.3"
  }
 },
 "nbformat": 4,
 "nbformat_minor": 5
}
