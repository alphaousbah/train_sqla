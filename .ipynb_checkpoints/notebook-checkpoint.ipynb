{
 "cells": [
  {
   "cell_type": "markdown",
   "id": "6fac031a-df9e-4e09-a534-696712aecf8f",
   "metadata": {},
   "source": [
    "## References:\n",
    "* https://flask-sqlalchemy.readthedocs.io/en/stable/\n",
    "* https://docs.sqlalchemy.org/en/20/orm/inheritance.html#concrete-table-inheritance\n",
    "* https://docs.sqlalchemy.org/en/20/_modules/examples/performance/bulk_inserts.html\n",
    "* https://docs.sqlalchemy.org/en/20/orm/large_collections.html#bulk-insert-of-new-items\n",
    "* https://docs.sqlalchemy.org/en/20/orm/extensions/asyncio.html"
   ]
  },
  {
   "cell_type": "markdown",
   "id": "549210ef-e66e-4461-9dd3-7a1a1f1d04f7",
   "metadata": {},
   "source": [
    "## Refactoring notes"
   ]
  },
  {
   "cell_type": "markdown",
   "id": "9f3b9e2d-6f5a-4e09-a561-b029b2194010",
   "metadata": {},
   "source": [
    "- Dans l'objet PremiumFile, il manque la relation à une analyse (mais la table d'association existe bien) :"
   ]
  },
  {
   "cell_type": "markdown",
   "id": "0b735abf-95e8-4058-9e72-4c8018dcd9dd",
   "metadata": {},
   "source": [
    "```python\n",
    "class PremiumFile(CommonMixin, Base):\n",
    "    \"\"\"Represents a historical premium file.\"\"\"\n",
    "    id: Mapped[int] = mapped_column(primary_key=True)\n",
    "    client_id: Mapped[int] = mapped_column(ForeignKey(\"client.id\"))\n",
    "    client: Mapped[\"Client\"] = relationship(back_populates=\"premiumfiles\")\n",
    "\n",
    "    # TODO: To be added\n",
    "    analyses: Mapped[List[Analysis]] = relationship(\n",
    "        secondary=lambda: analysis_premiumfile_table, back_populates=\"premiumfiles\"\n",
    "    )\n",
    "```"
   ]
  },
  {
   "attachments": {},
   "cell_type": "markdown",
   "id": "d0b18cfc-7e7e-431a-847f-2765019ef6c4",
   "metadata": {},
   "source": [
    "- Tester les suppressions d'objets\n",
    "- Associer threshold au model file et aux distributions de fréquence et de sévérité\n",
    "- The relationship between a frequency severity model and the input premium file is missing :"
   ]
  },
  {
   "cell_type": "markdown",
   "id": "3b421cd3-d121-46a0-ad91-4bd064bd2642",
   "metadata": {},
   "source": [
    "```python\n",
    "class FrequencySeverityModel(ModelFile):\n",
    "    \"\"\"Represents a frequency-severity model.\"\"\"\n",
    "\n",
    "    id: Mapped[int] = mapped_column(ForeignKey(\"modelfile.id\"), primary_key=True)\n",
    "    threshold: Mapped[int] = mapped_column(nullable=False)\n",
    "    lossfile_id: Mapped[int] = mapped_column(ForeignKey(\"histolossfile.id\"))\n",
    "    lossfile: Mapped[\"HistoLossFile\"] = relationship()\n",
    "    premiumfile_id: Mapped[int] = mapped_column(ForeignKey(\"premiumfile.id\"))  # TODO: To be added\n",
    "    premiumfile: Mapped[\"PremiumFile\"] = relationship()  # TODO: To be added\n",
    "```"
   ]
  },
  {
   "attachments": {},
   "cell_type": "markdown",
   "id": "f45ca9ca-3d92-45ed-97d4-c1e7130273a2",
   "metadata": {},
   "source": [
    "- The back-relationship were missing for handling properly session.delete(histolossfile) :\n",
    "- - The back-relationship were missing for handling properly session.delete(histolossfile) :"
   ]
  },
  {
   "cell_type": "markdown",
   "id": "12788cb3-ca8f-4534-97b2-4ea3fca4e51b",
   "metadata": {},
   "source": [
    "```python\n",
    "class Analysis(CommonMixin, Base):\n",
    "    id: Mapped[int] = mapped_column(primary_key=True)\n",
    "    client_id: Mapped[int] = mapped_column(ForeignKey(\"client.id\"), nullable=False)\n",
    "    client: Mapped[\"Client\"] = relationship(back_populates=\"analyses\")\n",
    "    \n",
    "    histolossfiles: Mapped[List[\"HistoLossFile\"]] = relationship(\n",
    "        secondary=lambda: analysis_histolossfile_table, back_populates=\"analyses\"\n",
    "    )\n",
    "    modelfiles: Mapped[List[\"ModelFile\"]] = relationship(\n",
    "        secondary=lambda: analysis_modelfile_table, back_populates=\"analyses\"\n",
    "    )\n",
    "    \n",
    "class HistoLossFile(CommonMixin, Base):\n",
    "    analyses: Mapped[List[Analysis]] = relationship(\n",
    "        secondary=lambda: analysis_histolossfile_table, back_populates=\"histolossfiles\"\n",
    "    )\n",
    "\n",
    "class ModelFile(CommonMixin, Base):\n",
    "    id: Mapped[int] = mapped_column(primary_key=True)\n",
    "    model_type: Mapped[str] = mapped_column(String(50), nullable=False)\n",
    "    years_simulated: Mapped[int] = mapped_column(nullable=False)\n",
    "    \n",
    "    client_id: Mapped[int] = mapped_column(ForeignKey(\"client.id\"), nullable=False)\n",
    "    client: Mapped[\"Client\"] = relationship(back_populates=\"modelfiles\")\n",
    "    \n",
    "    yearlosses: Mapped[List[\"ModelYearLoss\"]] = relationship(\n",
    "        back_populates=\"modelfile\",\n",
    "        cascade=\"all, delete-orphan\",\n",
    "    )\n",
    "    \n",
    "    analyses: Mapped[List[Analysis]] = relationship(\n",
    "        secondary=lambda: analysis_modelfile_table, back_populates=\"modelfiles\"\n",
    "    )\n",
    "```"
   ]
  },
  {
   "cell_type": "markdown",
   "id": "2e06684a-ba34-43a2-aa13-80e270d9ad0c",
   "metadata": {},
   "source": [
    "- Cascade delete, all for client-analysis:"
   ]
  },
  {
   "cell_type": "markdown",
   "id": "faff1d73-22cd-4002-ba5e-5df747f6a353",
   "metadata": {},
   "source": [
    "```python\n",
    "class Client(CommonMixin, Base): \"\"\"Represents a client entity.\"\"\"\n",
    "\n",
    "  id: Mapped[int] = mapped_column(primary_key=True)\n",
    "  name: Mapped[str] = mapped_column(String(50), nullable=False)\n",
    "\n",
    "  analyses: Mapped[List[\"Analysis\"]] = relationship(\n",
    "      back_populates=\"client\", cascade=\"all, delete-orphan\"\n",
    "  )\n",
    "```"
   ]
  },
  {
   "cell_type": "markdown",
   "id": "e162c4ef-7963-421d-98ee-8eb5d82d2283",
   "metadata": {},
   "source": [
    "- The Pydantic classes FrequencyInput and SeverityInput need to be reviewed and refactored\n",
    "- The attribute treshold is missing in the FrequencyModel class\n",
    "- Start frequency and severity models parameters with index 0\n",
    "- The threshold of frequency and severity models is that of the related frequency_severity_model => Remove attribute threshold from severity model\n",
    "- Use ModelType in polymorphic identity"
   ]
  },
  {
   "cell_type": "markdown",
   "id": "fe54af16-f6a3-49d4-b4c2-e86a16d8329c",
   "metadata": {},
   "source": [
    "- Confusion entre input et output (cf. https://gitlab.com/ccr-re-df/products/app/backends/tarification-nonvie-backend/-/blob/dev/app/api/routes/model.py) :"
   ]
  },
  {
   "cell_type": "markdown",
   "id": "c6269ea9-27b7-4683-98f8-536aaf5d372d",
   "metadata": {},
   "source": [
    "```python\n",
    "async def generate_stochastic_year_loss_table_and_metadata(\n",
    "    frequence_model_input: FrequencyModelOutput,\n",
    "    severity_model_input: SeverityModelOutput,\n",
    "    frequence_severity_model_input: FrequencySeverityModelInputExtend,\n",
    "    threshold_input: float,\n",
    "    analysis_id: int,\n",
    "    user_id: int,\n",
    "    lossfile_id: int,\n",
    "    injected_model_service: ModelServiceDep,\n",
    ") -> StochasticModelRouteResponse:\n",
    "    \"\"\"\n",
    "    Generate stochastic year loss table along with metadata.\n",
    "\n",
    "    Args:\n",
    "        frequence_model_input (FrequencyModelOutput): Output from the frequency model.\n",
    "        severity_model_input (SeverityModelOutput): Output from the severity model.\n",
    "\n",
    "```"
   ]
  },
  {
   "cell_type": "markdown",
   "id": "39d08190-79d0-42a3-8372-a008665f9d85",
   "metadata": {},
   "source": [
    "- ADD PREMIUM FILE ID\n",
    "- FIX THE PROBLEM WITH DELETING A FREQUENCY SOLO, A SEVERITY SOLO\n",
    "- THEN CREATE JIRA SPECIFIC ISSUES\n",
    "- THEN WORKSHOP WITH ANTOINE B TO REVIEW CHANGES LIKE THOSE IN PYDANTIC FOR FREQUENCYINPUT SEVERITYINPUT ETC"
   ]
  },
  {
   "cell_type": "markdown",
   "id": "d5fd4bb3-3492-4dd5-95f9-bf2380809997",
   "metadata": {},
   "source": [
    "## Engine"
   ]
  },
  {
   "cell_type": "markdown",
   "id": "1c943fcb-1d7d-42b3-9073-d3552746ca8b",
   "metadata": {},
   "source": [
    "### Import"
   ]
  },
  {
   "cell_type": "code",
   "execution_count": 1,
   "id": "e5ecd867-201c-4729-8d42-2bfa52208eac",
   "metadata": {},
   "outputs": [],
   "source": [
    "from engine.model.frequency_severity import (\n",
    "    DistributionInput,\n",
    "    DistributionType,\n",
    "    get_modelyearloss_frequency_severity,\n",
    ")"
   ]
  },
  {
   "cell_type": "markdown",
   "id": "429868bf-6f9f-46d9-bba1-e368c895637b",
   "metadata": {},
   "source": [
    "### Tests"
   ]
  },
  {
   "cell_type": "code",
   "execution_count": 2,
   "id": "8d9d8b5b-5d6f-475b-a706-08d80e849f8f",
   "metadata": {},
   "outputs": [
    {
     "name": "stdout",
     "output_type": "stream",
     "text": [
      "Duration = 0.3223381000570953\n",
      "Average Loss = 1992.347468398771\n",
      "Frequency = 2.99751\n",
      "shape: (299_751, 11)\n",
      "┌───────┬─────┬──────┬───────────┬───┬────────────┬────────┬──────────────────┬──────────────┐\n",
      "│ year  ┆ day ┆ loss ┆ loss_type ┆ … ┆ model_hash ┆ model  ┆ line_of_business ┆ modelfile_id │\n",
      "│ ---   ┆ --- ┆ ---  ┆ ---       ┆   ┆ ---        ┆ ---    ┆ ---              ┆ ---          │\n",
      "│ i64   ┆ i32 ┆ i64  ┆ str       ┆   ┆ object     ┆ object ┆ object           ┆ i64          │\n",
      "╞═══════╪═════╪══════╪═══════════╪═══╪════════════╪════════╪══════════════════╪══════════════╡\n",
      "│ 0     ┆ 137 ┆ 1099 ┆ non_cat   ┆ … ┆ null       ┆ null   ┆ null             ┆ 1            │\n",
      "│ 0     ┆ 124 ┆ 1416 ┆ non_cat   ┆ … ┆ null       ┆ null   ┆ null             ┆ 1            │\n",
      "│ 0     ┆ 94  ┆ 1520 ┆ cat       ┆ … ┆ null       ┆ null   ┆ null             ┆ 1            │\n",
      "│ 0     ┆ 251 ┆ 1161 ┆ cat       ┆ … ┆ null       ┆ null   ┆ null             ┆ 1            │\n",
      "│ 1     ┆ 99  ┆ 1166 ┆ cat       ┆ … ┆ null       ┆ null   ┆ null             ┆ 1            │\n",
      "│ …     ┆ …   ┆ …    ┆ …         ┆ … ┆ …          ┆ …      ┆ …                ┆ …            │\n",
      "│ 99997 ┆ 363 ┆ 1025 ┆ non_cat   ┆ … ┆ null       ┆ null   ┆ null             ┆ 1            │\n",
      "│ 99998 ┆ 60  ┆ 1602 ┆ cat       ┆ … ┆ null       ┆ null   ┆ null             ┆ 1            │\n",
      "│ 99998 ┆ 152 ┆ 1216 ┆ cat       ┆ … ┆ null       ┆ null   ┆ null             ┆ 1            │\n",
      "│ 99998 ┆ 363 ┆ 4286 ┆ cat       ┆ … ┆ null       ┆ null   ┆ null             ┆ 1            │\n",
      "│ 99999 ┆ 46  ┆ 1550 ┆ cat       ┆ … ┆ null       ┆ null   ┆ null             ┆ 1            │\n",
      "└───────┴─────┴──────┴───────────┴───┴────────────┴────────┴──────────────────┴──────────────┘\n"
     ]
    }
   ],
   "source": [
    "import time\n",
    "\n",
    "threshold = 1000\n",
    "\n",
    "frequency_input = DistributionInput(\n",
    "    dist=DistributionType.POISSON,\n",
    "    threshold=threshold,\n",
    "    params=[3],\n",
    ")\n",
    "\n",
    "severity_input = DistributionInput(\n",
    "    dist=DistributionType.PARETO,\n",
    "    threshold=threshold,\n",
    "    params=[2],\n",
    ")\n",
    "\n",
    "cat_share = 0.5\n",
    "simulated_years = 100_000\n",
    "modelfile_id = 1\n",
    "\n",
    "start = time.perf_counter()\n",
    "\n",
    "modelyearloss = get_modelyearloss_frequency_severity(\n",
    "    frequency_input,\n",
    "    severity_input,\n",
    "    cat_share,\n",
    "    simulated_years,\n",
    "    modelfile_id,\n",
    ")\n",
    "\n",
    "print(f\"Duration = {time.perf_counter() - start}\")\n",
    "print(f\"Average Loss = {modelyearloss[\"loss\"].mean()}\")\n",
    "print(f\"Frequency = {len(modelyearloss[\"loss\"]) / simulated_years}\")\n",
    "print(modelyearloss)"
   ]
  },
  {
   "cell_type": "markdown",
   "id": "4d846cfc-7582-4e2d-9e4d-0c700173f432",
   "metadata": {},
   "source": [
    "## Backend"
   ]
  },
  {
   "cell_type": "markdown",
   "id": "68c65c16-cc0e-422f-9e1c-814d0e028952",
   "metadata": {},
   "source": [
    "### Imports"
   ]
  },
  {
   "cell_type": "code",
   "execution_count": 3,
   "id": "fa3ca2d7-9b01-49a0-9eb9-17a2ac38dada",
   "metadata": {},
   "outputs": [],
   "source": [
    "import time\n",
    "from typing import Type\n",
    "\n",
    "from sqlalchemy import desc, insert, select, text\n",
    "from sqlalchemy.exc import SQLAlchemyError\n",
    "from sqlalchemy.orm import DeclarativeMeta, Session\n",
    "\n",
    "from database import (\n",
    "    Analysis,\n",
    "    Client,\n",
    "    FrequencyModel,\n",
    "    FrequencySeverityModel,\n",
    "    HistoLossFile,\n",
    "    ModelFile,\n",
    "    ModelYearLoss,\n",
    "    PremiumFile,\n",
    "    SeverityModel,\n",
    "    session,\n",
    ")"
   ]
  },
  {
   "cell_type": "markdown",
   "id": "4d98ebb8-59f9-4f83-9997-60d5b5f0c1ba",
   "metadata": {},
   "source": [
    "### Functions"
   ]
  },
  {
   "cell_type": "code",
   "execution_count": 4,
   "id": "f06779b1-2cfc-440e-a796-68faed7d1994",
   "metadata": {},
   "outputs": [],
   "source": [
    "# Create a client\n",
    "def add_client(session, client_name):\n",
    "    \"\"\"\n",
    "    Add a new client to the database.\n",
    "\n",
    "    Args:\n",
    "        session (Session): The SQLAlchemy session to use.\n",
    "        client_name (str): The name of the client to be added.\n",
    "\n",
    "    Raises:\n",
    "        SQLAlchemyError: If a database error occurs.\n",
    "        Exception: If any other unexpected error occurs.\n",
    "    \"\"\"\n",
    "    try:\n",
    "        # Create a new client\n",
    "        client = Client(name=client_name)\n",
    "\n",
    "        # Add the client to the session\n",
    "        session.add(client)\n",
    "\n",
    "        # Commit the transaction\n",
    "        session.commit()\n",
    "        print(f\"Client '{client_name}' added successfully.\")\n",
    "\n",
    "    except SQLAlchemyError as e:\n",
    "        session.rollback()\n",
    "        print(f\"Database error occurred: {e}\")\n",
    "        raise\n",
    "\n",
    "    except Exception as e:\n",
    "        session.rollback()\n",
    "        print(f\"An unexpected error occurred: {e}\")\n",
    "        raise\n",
    "\n",
    "    finally:\n",
    "        session.close()"
   ]
  },
  {
   "cell_type": "code",
   "execution_count": 5,
   "id": "cdccaa70-36f4-4c0a-8145-43e0e2f6a233",
   "metadata": {},
   "outputs": [],
   "source": [
    "# Create an analysis and associate it with a client\n",
    "def add_analysis_to_client(session, client_id):\n",
    "    \"\"\"\n",
    "    Create an analysis and associates it with a client.\n",
    "\n",
    "    Args:\n",
    "        session (Session): The SQLAlchemy session to use.\n",
    "        client_id (int): The ID of the client to associate the analysis with.\n",
    "\n",
    "    Raises:\n",
    "        SQLAlchemyError: If a database error occurs.\n",
    "        Exception: If any other unexpected error occurs.\n",
    "    \"\"\"\n",
    "    try:\n",
    "        # Retrieve the client\n",
    "        client = session.get_one(Client, client_id)\n",
    "\n",
    "        # Create a new analysis\n",
    "        analysis = Analysis()\n",
    "\n",
    "        # Associate the analysis with the client\n",
    "        client.analyses.append(analysis)\n",
    "\n",
    "        # Commit the transaction\n",
    "        session.commit()\n",
    "        print(\"Analysis added successfully.\")\n",
    "\n",
    "    except SQLAlchemyError as e:\n",
    "        session.rollback()\n",
    "        print(f\"Database error occurred: {e}\")\n",
    "        raise\n",
    "\n",
    "    except Exception as e:\n",
    "        session.rollback()\n",
    "        print(f\"An unexpected error occurred: {e}\")\n",
    "        raise\n",
    "\n",
    "    finally:\n",
    "        session.close()"
   ]
  },
  {
   "cell_type": "code",
   "execution_count": 11,
   "id": "2c6fcaff-1103-438d-a0de-0202fc93e312",
   "metadata": {},
   "outputs": [],
   "source": [
    "# Create a premium file and associate it with a client and an analysis\n",
    "def create_premium_file(session: Session, analysis_id: int):\n",
    "    \"\"\"\n",
    "    Create a premium file and associates it with a client and an analysis.\n",
    "\n",
    "    Args:\n",
    "        session (Session): The SQLAlchemy session to use.\n",
    "        analysis_id (int): The ID of the analysis to associate the premium file with.\n",
    "\n",
    "    Raises:\n",
    "        SQLAlchemyError: If a database error occurs.\n",
    "        Exception: If any other unexpected error occurs.\n",
    "    \"\"\"\n",
    "    try:\n",
    "        # Retrieve the analysis and the associated client\n",
    "        analysis = session.get(Analysis, analysis_id)\n",
    "        if not analysis:\n",
    "            raise ValueError(f\"Analysis with ID {analysis_id} not found.\")\n",
    "        client = analysis.client\n",
    "\n",
    "        # Create the premium file\n",
    "        premiumfile = PremiumFile()\n",
    "\n",
    "        # Associate the historical loss file with the client and analysis\n",
    "        client.premiumfiles.append(premiumfile)\n",
    "        analysis.premiumfiles.append(premiumfile)\n",
    "\n",
    "        # Commit the transaction\n",
    "        session.commit()\n",
    "        print(\"Premium file added successfully.\")\n",
    "\n",
    "    except SQLAlchemyError as e:\n",
    "        session.rollback()\n",
    "        print(f\"Database error occurred: {e}\")\n",
    "        raise\n",
    "\n",
    "    except Exception as e:\n",
    "        session.rollback()\n",
    "        print(f\"An unexpected error occurred: {e}\")\n",
    "        raise\n",
    "\n",
    "    finally:\n",
    "        session.close()"
   ]
  },
  {
   "cell_type": "code",
   "execution_count": 7,
   "id": "7ddae769-a8e6-443b-ad86-1015773748e5",
   "metadata": {},
   "outputs": [],
   "source": [
    "# Create a historical loss file and associate it with a client and an analysis\n",
    "def create_historical_loss_file(session: Session, analysis_id: int):\n",
    "    \"\"\"\n",
    "    Create a historical loss file and associates it with a client and an analysis.\n",
    "\n",
    "    Args:\n",
    "        session (Session): The SQLAlchemy session to use.\n",
    "        analysis_id (int): The ID of the analysis to associate the historical loss file with.\n",
    "\n",
    "    Raises:\n",
    "        SQLAlchemyError: If a database error occurs.\n",
    "        Exception: If any other unexpected error occurs.\n",
    "    \"\"\"\n",
    "    try:\n",
    "        # Retrieve the analysis and the associated client\n",
    "        analysis = session.get(Analysis, analysis_id)\n",
    "        if not analysis:\n",
    "            raise ValueError(f\"Analysis with ID {analysis_id} not found.\")\n",
    "        client = analysis.client\n",
    "\n",
    "        # Create the historical loss file\n",
    "        histolossfile = HistoLossFile()\n",
    "\n",
    "        # Associate the historical loss file with the client and analysis\n",
    "        client.histolossfiles.append(histolossfile)\n",
    "        analysis.histolossfiles.append(histolossfile)\n",
    "\n",
    "        # Commit the transaction\n",
    "        session.commit()\n",
    "        print(\"Historical loss file added successfully.\")\n",
    "\n",
    "    except SQLAlchemyError as e:\n",
    "        session.rollback()\n",
    "        print(f\"Database error occurred: {e}\")\n",
    "        raise\n",
    "\n",
    "    except Exception as e:\n",
    "        session.rollback()\n",
    "        print(f\"An unexpected error occurred: {e}\")\n",
    "        raise\n",
    "\n",
    "    finally:\n",
    "        session.close()"
   ]
  },
  {
   "cell_type": "code",
   "execution_count": 8,
   "id": "34b984f2-74c8-4c0e-9220-34dcb6865016",
   "metadata": {},
   "outputs": [],
   "source": [
    "# Create a frequency-severity loss model\n",
    "def create_frequency_severity_model(\n",
    "    session: Session,\n",
    "    analysis_id: int,\n",
    "    lossfile_id: int,\n",
    "    premiumfile_id: int,\n",
    "    threshold: float,\n",
    "    frequency_input: DistributionInput,\n",
    "    severity_input: DistributionInput,\n",
    "    cat_share: float,\n",
    "    years_simulated: int,\n",
    ") -> None:\n",
    "    \"\"\"\n",
    "    Create a frequency-severity model and persists related data in the database.\n",
    "\n",
    "    Args:\n",
    "        session (Session): The SQLAlchemy session to use for database operations.\n",
    "        analysis_id (int): ID of the analysis to associate the model with.\n",
    "        lossfile_id (int): ID of the loss file to associate the model with.\n",
    "        threshold (float): Threshold parameter for the model.\n",
    "        frequency_input (DistributionInput): Input parameters for the frequency model.\n",
    "        severity_input (DistributionInput): Input parameters for the severity model.\n",
    "        cat_share (float): The proportion of losses attributed to catastrophic events.\n",
    "        years_simulated (int): Number of years simulated for the model.\n",
    "\n",
    "    Raises:\n",
    "        SQLAlchemyError: If a database error occurs during the process.\n",
    "        Exception: If an unexpected error occurs.\n",
    "    \"\"\"\n",
    "    try:\n",
    "        # Fetch analysis and ensure it exists\n",
    "        analysis = session.get(Analysis, analysis_id)\n",
    "        if not analysis:\n",
    "            raise ValueError(f\"Analysis with ID {analysis_id} not found.\")\n",
    "        client_id = analysis.client_id\n",
    "\n",
    "        # Create frequency and severity models\n",
    "        start_time = time.perf_counter()\n",
    "        frequencymodel = FrequencyModel(\n",
    "            **{\n",
    "                f\"parameter_{i}\": param\n",
    "                for i, param in enumerate(frequency_input.params)\n",
    "            }\n",
    "        )\n",
    "        severitymodel = SeverityModel(\n",
    "            **{f\"parameter_{i}\": param for i, param in enumerate(severity_input.params)}\n",
    "        )\n",
    "\n",
    "        # Create the frequency-severity model\n",
    "        modelfile = FrequencySeverityModel(\n",
    "            model_type=\"frequency_severity_model\",\n",
    "            threshold=threshold,\n",
    "            years_simulated=years_simulated,\n",
    "            lossfile_id=lossfile_id,\n",
    "            premiumfile_id=premiumfile_id,\n",
    "            frequencymodel=frequencymodel,\n",
    "            severitymodel=severitymodel,\n",
    "        )\n",
    "\n",
    "        # Link the model to the analysis and the client\n",
    "        analysis.client.modelfiles.append(modelfile)\n",
    "        analysis.modelfiles.append(modelfile)\n",
    "        print(\n",
    "            f\"Time to create model file: {time.perf_counter() - start_time:.2f} seconds\"\n",
    "        )\n",
    "\n",
    "        # Flush to get modelfile ID\n",
    "        start_time = time.perf_counter()\n",
    "        session.flush()\n",
    "        modelfile_id = modelfile.id\n",
    "        print(\n",
    "            f\"Time to flush the session: {time.perf_counter() - start_time:.2f} seconds\"\n",
    "        )\n",
    "\n",
    "        # Generate year loss data\n",
    "        start_time = time.perf_counter()\n",
    "        modelyearloss = get_modelyearloss_frequency_severity(\n",
    "            frequency_input, severity_input, cat_share, years_simulated, modelfile_id\n",
    "        )\n",
    "        print(\n",
    "            f\"Time to generate year loss data: {time.perf_counter() - start_time:.2f} seconds\"\n",
    "        )\n",
    "\n",
    "        # Insert records into the database\n",
    "        start_time = time.perf_counter()\n",
    "        session.execute(insert(ModelYearLoss), modelyearloss.to_dicts())\n",
    "        print(\n",
    "            f\"Time to insert year loss records into database: {time.perf_counter() - start_time:.2f} seconds\"\n",
    "        )\n",
    "\n",
    "        # Commit the transaction\n",
    "        start_time = time.perf_counter()\n",
    "        session.commit()\n",
    "        print(\n",
    "            f\"Time to commit transaction: {time.perf_counter() - start_time:.2f} seconds\"\n",
    "        )\n",
    "        print(\"Frequency-Severity Model created successfully.\")\n",
    "\n",
    "    except SQLAlchemyError as e:\n",
    "        session.rollback()\n",
    "        print(f\"Database error occurred: {e}\")\n",
    "        raise\n",
    "    except Exception as e:\n",
    "        session.rollback()\n",
    "        print(f\"An unexpected error occurred: {e}\")\n",
    "        raise\n",
    "    finally:\n",
    "        session.close()"
   ]
  },
  {
   "cell_type": "code",
   "execution_count": 9,
   "id": "45bc9f3b-aa6e-4009-ae3a-5b39aaee821a",
   "metadata": {
    "scrolled": true
   },
   "outputs": [],
   "source": [
    "# Delete a database record\n",
    "def delete_db_record(\n",
    "    session: Session,\n",
    "    model: Type[DeclarativeMeta],\n",
    "    record_id: int,\n",
    ") -> None:\n",
    "    \"\"\"\n",
    "    Delete a record from the database by its model class and ID.\n",
    "\n",
    "    Args:\n",
    "        session (Session): The SQLAlchemy session to use for database operations.\n",
    "        model (Type[DeclarativeMeta]): The SQLAlchemy model class of the record to delete.\n",
    "        record_id (int): The ID of the record to delete.\n",
    "\n",
    "    Raises:\n",
    "        ValueError: If the record with the given ID is not found.\n",
    "        SQLAlchemyError: If a database error occurs.\n",
    "        Exception: For any other unexpected errors.\n",
    "    \"\"\"\n",
    "    try:\n",
    "        # Fetch the record\n",
    "        record = session.get(model, record_id)\n",
    "        if not record:\n",
    "            raise ValueError(f\"{model.__name__} record with ID {record_id} not found.\")\n",
    "\n",
    "        # Delete the record\n",
    "        session.delete(record)\n",
    "        session.commit()\n",
    "        print(f\"{model.__name__} record with ID {record_id} has been deleted.\")\n",
    "\n",
    "    except SQLAlchemyError as e:\n",
    "        session.rollback()\n",
    "        print(f\"Database error occurred while deleting {model.__name__} record: {e}\")\n",
    "        raise\n",
    "\n",
    "    except Exception as e:\n",
    "        session.rollback()\n",
    "        print(\n",
    "            f\"An unexpected error occurred while deleting {model.__name__} record: {e}\"\n",
    "        )\n",
    "        raise\n",
    "\n",
    "    finally:\n",
    "        session.close()"
   ]
  },
  {
   "cell_type": "code",
   "execution_count": 10,
   "id": "13d3c58f-6cb1-4f42-9c2c-1e4a4feab07c",
   "metadata": {},
   "outputs": [
    {
     "name": "stdout",
     "output_type": "stream",
     "text": [
      "Client 'AXA' added successfully.\n",
      "Analysis added successfully.\n",
      "An unexpected error occurred: 'Client' object has no attribute 'premiumfilefiles'\n"
     ]
    },
    {
     "ename": "AttributeError",
     "evalue": "'Client' object has no attribute 'premiumfilefiles'",
     "output_type": "error",
     "traceback": [
      "\u001b[1;31m---------------------------------------------------------------------------\u001b[0m",
      "\u001b[1;31mAttributeError\u001b[0m                            Traceback (most recent call last)",
      "Cell \u001b[1;32mIn[10], line 4\u001b[0m\n\u001b[0;32m      2\u001b[0m add_client(session, client_name\u001b[38;5;241m=\u001b[39m\u001b[38;5;124m\"\u001b[39m\u001b[38;5;124mAXA\u001b[39m\u001b[38;5;124m\"\u001b[39m)\n\u001b[0;32m      3\u001b[0m add_analysis_to_client(session, client_id\u001b[38;5;241m=\u001b[39m\u001b[38;5;241m1\u001b[39m)\n\u001b[1;32m----> 4\u001b[0m \u001b[43mcreate_premium_file\u001b[49m\u001b[43m(\u001b[49m\u001b[43msession\u001b[49m\u001b[43m,\u001b[49m\u001b[43m \u001b[49m\u001b[43manalysis_id\u001b[49m\u001b[38;5;241;43m=\u001b[39;49m\u001b[38;5;241;43m1\u001b[39;49m\u001b[43m)\u001b[49m\n\u001b[0;32m      5\u001b[0m create_historical_loss_file(session, analysis_id\u001b[38;5;241m=\u001b[39m\u001b[38;5;241m1\u001b[39m)\n",
      "Cell \u001b[1;32mIn[6], line 25\u001b[0m, in \u001b[0;36mcreate_premium_file\u001b[1;34m(session, analysis_id)\u001b[0m\n\u001b[0;32m     22\u001b[0m premiumfile \u001b[38;5;241m=\u001b[39m PremiumFile()\n\u001b[0;32m     24\u001b[0m \u001b[38;5;66;03m# Associate the historical loss file with the client and analysis\u001b[39;00m\n\u001b[1;32m---> 25\u001b[0m \u001b[43mclient\u001b[49m\u001b[38;5;241;43m.\u001b[39;49m\u001b[43mpremiumfilefiles\u001b[49m\u001b[38;5;241m.\u001b[39mappend(premiumfile)\n\u001b[0;32m     26\u001b[0m analysis\u001b[38;5;241m.\u001b[39mpremiumfilefiles\u001b[38;5;241m.\u001b[39mappend(premiumfile)\n\u001b[0;32m     28\u001b[0m \u001b[38;5;66;03m# Commit the transaction\u001b[39;00m\n",
      "\u001b[1;31mAttributeError\u001b[0m: 'Client' object has no attribute 'premiumfilefiles'"
     ]
    }
   ],
   "source": [
    "# Create a client, an analysis and a historical loss file\n",
    "add_client(session, client_name=\"AXA\")\n",
    "add_analysis_to_client(session, client_id=1)\n",
    "create_premium_file(session, analysis_id=1)\n",
    "create_historical_loss_file(session, analysis_id=1)"
   ]
  },
  {
   "cell_type": "code",
   "execution_count": 12,
   "id": "396fc813-c224-4469-b374-3e9c7d6d3b57",
   "metadata": {},
   "outputs": [
    {
     "name": "stdout",
     "output_type": "stream",
     "text": [
      "Time to create model file: 0.07 seconds\n",
      "Time to flush the session: 0.00 seconds\n",
      "Time to generate year loss data: 0.04 seconds\n",
      "Time to insert year loss records into database: 0.33 seconds\n",
      "Time to commit transaction: 0.02 seconds\n",
      "Frequency-Severity Model created successfully.\n",
      "Total Duration = 0.46388649998698384\n"
     ]
    }
   ],
   "source": [
    "# Create a frequency-severity model\n",
    "start = time.perf_counter()\n",
    "create_frequency_severity_model(\n",
    "    session,\n",
    "    analysis_id=1,\n",
    "    lossfile_id=1,\n",
    "    premiumfile_id=1,\n",
    "    threshold=1000,\n",
    "    frequency_input=DistributionInput(\n",
    "        dist=DistributionType.POISSON,\n",
    "        threshold=1000,\n",
    "        params=[3, 0, 0, 0, 0],\n",
    "    ),\n",
    "    severity_input=DistributionInput(\n",
    "        dist=DistributionType.PARETO,\n",
    "        threshold=1000,\n",
    "        params=[2, 0, 0, 0, 0],\n",
    "    ),\n",
    "    cat_share=.5,\n",
    "    years_simulated=10_000,\n",
    ")\n",
    "\n",
    "duration = time.perf_counter() - start\n",
    "print(f\"Total Duration = {duration}\")"
   ]
  },
  {
   "cell_type": "code",
   "execution_count": 15,
   "id": "648a05f5-94f1-4425-85d3-c0b97e9e2202",
   "metadata": {
    "scrolled": true
   },
   "outputs": [
    {
     "name": "stdout",
     "output_type": "stream",
     "text": [
      "Database error occurred while deleting HistoLossFile record: (sqlite3.IntegrityError) FOREIGN KEY constraint failed\n",
      "[SQL: DELETE FROM histolossfile WHERE histolossfile.id = ?]\n",
      "[parameters: (1,)]\n",
      "(Background on this error at: https://sqlalche.me/e/20/gkpj)\n"
     ]
    },
    {
     "ename": "IntegrityError",
     "evalue": "(sqlite3.IntegrityError) FOREIGN KEY constraint failed\n[SQL: DELETE FROM histolossfile WHERE histolossfile.id = ?]\n[parameters: (1,)]\n(Background on this error at: https://sqlalche.me/e/20/gkpj)",
     "output_type": "error",
     "traceback": [
      "\u001b[1;31m---------------------------------------------------------------------------\u001b[0m",
      "\u001b[1;31mIntegrityError\u001b[0m                            Traceback (most recent call last)",
      "File \u001b[1;32m~\\Documents\\mywebapps\\train_sqla\\.venv\\Lib\\site-packages\\sqlalchemy\\engine\\base.py:1967\u001b[0m, in \u001b[0;36mConnection._exec_single_context\u001b[1;34m(self, dialect, context, statement, parameters)\u001b[0m\n\u001b[0;32m   1966\u001b[0m     \u001b[38;5;28;01mif\u001b[39;00m \u001b[38;5;129;01mnot\u001b[39;00m evt_handled:\n\u001b[1;32m-> 1967\u001b[0m         \u001b[38;5;28;43mself\u001b[39;49m\u001b[38;5;241;43m.\u001b[39;49m\u001b[43mdialect\u001b[49m\u001b[38;5;241;43m.\u001b[39;49m\u001b[43mdo_execute\u001b[49m\u001b[43m(\u001b[49m\n\u001b[0;32m   1968\u001b[0m \u001b[43m            \u001b[49m\u001b[43mcursor\u001b[49m\u001b[43m,\u001b[49m\u001b[43m \u001b[49m\u001b[43mstr_statement\u001b[49m\u001b[43m,\u001b[49m\u001b[43m \u001b[49m\u001b[43meffective_parameters\u001b[49m\u001b[43m,\u001b[49m\u001b[43m \u001b[49m\u001b[43mcontext\u001b[49m\n\u001b[0;32m   1969\u001b[0m \u001b[43m        \u001b[49m\u001b[43m)\u001b[49m\n\u001b[0;32m   1971\u001b[0m \u001b[38;5;28;01mif\u001b[39;00m \u001b[38;5;28mself\u001b[39m\u001b[38;5;241m.\u001b[39m_has_events \u001b[38;5;129;01mor\u001b[39;00m \u001b[38;5;28mself\u001b[39m\u001b[38;5;241m.\u001b[39mengine\u001b[38;5;241m.\u001b[39m_has_events:\n",
      "File \u001b[1;32m~\\Documents\\mywebapps\\train_sqla\\.venv\\Lib\\site-packages\\sqlalchemy\\engine\\default.py:941\u001b[0m, in \u001b[0;36mDefaultDialect.do_execute\u001b[1;34m(self, cursor, statement, parameters, context)\u001b[0m\n\u001b[0;32m    940\u001b[0m \u001b[38;5;28;01mdef\u001b[39;00m \u001b[38;5;21mdo_execute\u001b[39m(\u001b[38;5;28mself\u001b[39m, cursor, statement, parameters, context\u001b[38;5;241m=\u001b[39m\u001b[38;5;28;01mNone\u001b[39;00m):\n\u001b[1;32m--> 941\u001b[0m     \u001b[43mcursor\u001b[49m\u001b[38;5;241;43m.\u001b[39;49m\u001b[43mexecute\u001b[49m\u001b[43m(\u001b[49m\u001b[43mstatement\u001b[49m\u001b[43m,\u001b[49m\u001b[43m \u001b[49m\u001b[43mparameters\u001b[49m\u001b[43m)\u001b[49m\n",
      "\u001b[1;31mIntegrityError\u001b[0m: FOREIGN KEY constraint failed",
      "\nThe above exception was the direct cause of the following exception:\n",
      "\u001b[1;31mIntegrityError\u001b[0m                            Traceback (most recent call last)",
      "Cell \u001b[1;32mIn[15], line 1\u001b[0m\n\u001b[1;32m----> 1\u001b[0m \u001b[43mdelete_db_record\u001b[49m\u001b[43m(\u001b[49m\u001b[43msession\u001b[49m\u001b[43m,\u001b[49m\u001b[43m \u001b[49m\u001b[43mHistoLossFile\u001b[49m\u001b[43m,\u001b[49m\u001b[43m \u001b[49m\u001b[38;5;241;43m1\u001b[39;49m\u001b[43m)\u001b[49m\n",
      "Cell \u001b[1;32mIn[10], line 28\u001b[0m, in \u001b[0;36mdelete_db_record\u001b[1;34m(session, model, record_id)\u001b[0m\n\u001b[0;32m     26\u001b[0m     \u001b[38;5;66;03m# Delete the record\u001b[39;00m\n\u001b[0;32m     27\u001b[0m     session\u001b[38;5;241m.\u001b[39mdelete(record)\n\u001b[1;32m---> 28\u001b[0m     \u001b[43msession\u001b[49m\u001b[38;5;241;43m.\u001b[39;49m\u001b[43mcommit\u001b[49m\u001b[43m(\u001b[49m\u001b[43m)\u001b[49m\n\u001b[0;32m     29\u001b[0m     \u001b[38;5;28mprint\u001b[39m(\u001b[38;5;124mf\u001b[39m\u001b[38;5;124m\"\u001b[39m\u001b[38;5;132;01m{\u001b[39;00mmodel\u001b[38;5;241m.\u001b[39m\u001b[38;5;18m__name__\u001b[39m\u001b[38;5;132;01m}\u001b[39;00m\u001b[38;5;124m record with ID \u001b[39m\u001b[38;5;132;01m{\u001b[39;00mrecord_id\u001b[38;5;132;01m}\u001b[39;00m\u001b[38;5;124m has been deleted.\u001b[39m\u001b[38;5;124m\"\u001b[39m)\n\u001b[0;32m     31\u001b[0m \u001b[38;5;28;01mexcept\u001b[39;00m SQLAlchemyError \u001b[38;5;28;01mas\u001b[39;00m e:\n",
      "File \u001b[1;32m~\\Documents\\mywebapps\\train_sqla\\.venv\\Lib\\site-packages\\sqlalchemy\\orm\\session.py:2028\u001b[0m, in \u001b[0;36mSession.commit\u001b[1;34m(self)\u001b[0m\n\u001b[0;32m   2025\u001b[0m \u001b[38;5;28;01mif\u001b[39;00m trans \u001b[38;5;129;01mis\u001b[39;00m \u001b[38;5;28;01mNone\u001b[39;00m:\n\u001b[0;32m   2026\u001b[0m     trans \u001b[38;5;241m=\u001b[39m \u001b[38;5;28mself\u001b[39m\u001b[38;5;241m.\u001b[39m_autobegin_t()\n\u001b[1;32m-> 2028\u001b[0m \u001b[43mtrans\u001b[49m\u001b[38;5;241;43m.\u001b[39;49m\u001b[43mcommit\u001b[49m\u001b[43m(\u001b[49m\u001b[43m_to_root\u001b[49m\u001b[38;5;241;43m=\u001b[39;49m\u001b[38;5;28;43;01mTrue\u001b[39;49;00m\u001b[43m)\u001b[49m\n",
      "File \u001b[1;32m<string>:2\u001b[0m, in \u001b[0;36mcommit\u001b[1;34m(self, _to_root)\u001b[0m\n",
      "File \u001b[1;32m~\\Documents\\mywebapps\\train_sqla\\.venv\\Lib\\site-packages\\sqlalchemy\\orm\\state_changes.py:139\u001b[0m, in \u001b[0;36m_StateChange.declare_states.<locals>._go\u001b[1;34m(fn, self, *arg, **kw)\u001b[0m\n\u001b[0;32m    137\u001b[0m \u001b[38;5;28mself\u001b[39m\u001b[38;5;241m.\u001b[39m_next_state \u001b[38;5;241m=\u001b[39m _StateChangeStates\u001b[38;5;241m.\u001b[39mCHANGE_IN_PROGRESS\n\u001b[0;32m    138\u001b[0m \u001b[38;5;28;01mtry\u001b[39;00m:\n\u001b[1;32m--> 139\u001b[0m     ret_value \u001b[38;5;241m=\u001b[39m \u001b[43mfn\u001b[49m\u001b[43m(\u001b[49m\u001b[38;5;28;43mself\u001b[39;49m\u001b[43m,\u001b[49m\u001b[43m \u001b[49m\u001b[38;5;241;43m*\u001b[39;49m\u001b[43marg\u001b[49m\u001b[43m,\u001b[49m\u001b[43m \u001b[49m\u001b[38;5;241;43m*\u001b[39;49m\u001b[38;5;241;43m*\u001b[39;49m\u001b[43mkw\u001b[49m\u001b[43m)\u001b[49m\n\u001b[0;32m    140\u001b[0m \u001b[38;5;28;01mexcept\u001b[39;00m:\n\u001b[0;32m    141\u001b[0m     \u001b[38;5;28;01mraise\u001b[39;00m\n",
      "File \u001b[1;32m~\\Documents\\mywebapps\\train_sqla\\.venv\\Lib\\site-packages\\sqlalchemy\\orm\\session.py:1313\u001b[0m, in \u001b[0;36mSessionTransaction.commit\u001b[1;34m(self, _to_root)\u001b[0m\n\u001b[0;32m   1311\u001b[0m \u001b[38;5;28;01mif\u001b[39;00m \u001b[38;5;28mself\u001b[39m\u001b[38;5;241m.\u001b[39m_state \u001b[38;5;129;01mis\u001b[39;00m \u001b[38;5;129;01mnot\u001b[39;00m SessionTransactionState\u001b[38;5;241m.\u001b[39mPREPARED:\n\u001b[0;32m   1312\u001b[0m     \u001b[38;5;28;01mwith\u001b[39;00m \u001b[38;5;28mself\u001b[39m\u001b[38;5;241m.\u001b[39m_expect_state(SessionTransactionState\u001b[38;5;241m.\u001b[39mPREPARED):\n\u001b[1;32m-> 1313\u001b[0m         \u001b[38;5;28;43mself\u001b[39;49m\u001b[38;5;241;43m.\u001b[39;49m\u001b[43m_prepare_impl\u001b[49m\u001b[43m(\u001b[49m\u001b[43m)\u001b[49m\n\u001b[0;32m   1315\u001b[0m \u001b[38;5;28;01mif\u001b[39;00m \u001b[38;5;28mself\u001b[39m\u001b[38;5;241m.\u001b[39m_parent \u001b[38;5;129;01mis\u001b[39;00m \u001b[38;5;28;01mNone\u001b[39;00m \u001b[38;5;129;01mor\u001b[39;00m \u001b[38;5;28mself\u001b[39m\u001b[38;5;241m.\u001b[39mnested:\n\u001b[0;32m   1316\u001b[0m     \u001b[38;5;28;01mfor\u001b[39;00m conn, trans, should_commit, autoclose \u001b[38;5;129;01min\u001b[39;00m \u001b[38;5;28mset\u001b[39m(\n\u001b[0;32m   1317\u001b[0m         \u001b[38;5;28mself\u001b[39m\u001b[38;5;241m.\u001b[39m_connections\u001b[38;5;241m.\u001b[39mvalues()\n\u001b[0;32m   1318\u001b[0m     ):\n",
      "File \u001b[1;32m<string>:2\u001b[0m, in \u001b[0;36m_prepare_impl\u001b[1;34m(self)\u001b[0m\n",
      "File \u001b[1;32m~\\Documents\\mywebapps\\train_sqla\\.venv\\Lib\\site-packages\\sqlalchemy\\orm\\state_changes.py:139\u001b[0m, in \u001b[0;36m_StateChange.declare_states.<locals>._go\u001b[1;34m(fn, self, *arg, **kw)\u001b[0m\n\u001b[0;32m    137\u001b[0m \u001b[38;5;28mself\u001b[39m\u001b[38;5;241m.\u001b[39m_next_state \u001b[38;5;241m=\u001b[39m _StateChangeStates\u001b[38;5;241m.\u001b[39mCHANGE_IN_PROGRESS\n\u001b[0;32m    138\u001b[0m \u001b[38;5;28;01mtry\u001b[39;00m:\n\u001b[1;32m--> 139\u001b[0m     ret_value \u001b[38;5;241m=\u001b[39m \u001b[43mfn\u001b[49m\u001b[43m(\u001b[49m\u001b[38;5;28;43mself\u001b[39;49m\u001b[43m,\u001b[49m\u001b[43m \u001b[49m\u001b[38;5;241;43m*\u001b[39;49m\u001b[43marg\u001b[49m\u001b[43m,\u001b[49m\u001b[43m \u001b[49m\u001b[38;5;241;43m*\u001b[39;49m\u001b[38;5;241;43m*\u001b[39;49m\u001b[43mkw\u001b[49m\u001b[43m)\u001b[49m\n\u001b[0;32m    140\u001b[0m \u001b[38;5;28;01mexcept\u001b[39;00m:\n\u001b[0;32m    141\u001b[0m     \u001b[38;5;28;01mraise\u001b[39;00m\n",
      "File \u001b[1;32m~\\Documents\\mywebapps\\train_sqla\\.venv\\Lib\\site-packages\\sqlalchemy\\orm\\session.py:1288\u001b[0m, in \u001b[0;36mSessionTransaction._prepare_impl\u001b[1;34m(self)\u001b[0m\n\u001b[0;32m   1286\u001b[0m     \u001b[38;5;28;01mif\u001b[39;00m \u001b[38;5;28mself\u001b[39m\u001b[38;5;241m.\u001b[39msession\u001b[38;5;241m.\u001b[39m_is_clean():\n\u001b[0;32m   1287\u001b[0m         \u001b[38;5;28;01mbreak\u001b[39;00m\n\u001b[1;32m-> 1288\u001b[0m     \u001b[38;5;28;43mself\u001b[39;49m\u001b[38;5;241;43m.\u001b[39;49m\u001b[43msession\u001b[49m\u001b[38;5;241;43m.\u001b[39;49m\u001b[43mflush\u001b[49m\u001b[43m(\u001b[49m\u001b[43m)\u001b[49m\n\u001b[0;32m   1289\u001b[0m \u001b[38;5;28;01melse\u001b[39;00m:\n\u001b[0;32m   1290\u001b[0m     \u001b[38;5;28;01mraise\u001b[39;00m exc\u001b[38;5;241m.\u001b[39mFlushError(\n\u001b[0;32m   1291\u001b[0m         \u001b[38;5;124m\"\u001b[39m\u001b[38;5;124mOver 100 subsequent flushes have occurred within \u001b[39m\u001b[38;5;124m\"\u001b[39m\n\u001b[0;32m   1292\u001b[0m         \u001b[38;5;124m\"\u001b[39m\u001b[38;5;124msession.commit() - is an after_flush() hook \u001b[39m\u001b[38;5;124m\"\u001b[39m\n\u001b[0;32m   1293\u001b[0m         \u001b[38;5;124m\"\u001b[39m\u001b[38;5;124mcreating new objects?\u001b[39m\u001b[38;5;124m\"\u001b[39m\n\u001b[0;32m   1294\u001b[0m     )\n",
      "File \u001b[1;32m~\\Documents\\mywebapps\\train_sqla\\.venv\\Lib\\site-packages\\sqlalchemy\\orm\\session.py:4352\u001b[0m, in \u001b[0;36mSession.flush\u001b[1;34m(self, objects)\u001b[0m\n\u001b[0;32m   4350\u001b[0m \u001b[38;5;28;01mtry\u001b[39;00m:\n\u001b[0;32m   4351\u001b[0m     \u001b[38;5;28mself\u001b[39m\u001b[38;5;241m.\u001b[39m_flushing \u001b[38;5;241m=\u001b[39m \u001b[38;5;28;01mTrue\u001b[39;00m\n\u001b[1;32m-> 4352\u001b[0m     \u001b[38;5;28;43mself\u001b[39;49m\u001b[38;5;241;43m.\u001b[39;49m\u001b[43m_flush\u001b[49m\u001b[43m(\u001b[49m\u001b[43mobjects\u001b[49m\u001b[43m)\u001b[49m\n\u001b[0;32m   4353\u001b[0m \u001b[38;5;28;01mfinally\u001b[39;00m:\n\u001b[0;32m   4354\u001b[0m     \u001b[38;5;28mself\u001b[39m\u001b[38;5;241m.\u001b[39m_flushing \u001b[38;5;241m=\u001b[39m \u001b[38;5;28;01mFalse\u001b[39;00m\n",
      "File \u001b[1;32m~\\Documents\\mywebapps\\train_sqla\\.venv\\Lib\\site-packages\\sqlalchemy\\orm\\session.py:4487\u001b[0m, in \u001b[0;36mSession._flush\u001b[1;34m(self, objects)\u001b[0m\n\u001b[0;32m   4484\u001b[0m     transaction\u001b[38;5;241m.\u001b[39mcommit()\n\u001b[0;32m   4486\u001b[0m \u001b[38;5;28;01mexcept\u001b[39;00m:\n\u001b[1;32m-> 4487\u001b[0m \u001b[43m    \u001b[49m\u001b[38;5;28;43;01mwith\u001b[39;49;00m\u001b[43m \u001b[49m\u001b[43mutil\u001b[49m\u001b[38;5;241;43m.\u001b[39;49m\u001b[43msafe_reraise\u001b[49m\u001b[43m(\u001b[49m\u001b[43m)\u001b[49m\u001b[43m:\u001b[49m\n\u001b[0;32m   4488\u001b[0m \u001b[43m        \u001b[49m\u001b[43mtransaction\u001b[49m\u001b[38;5;241;43m.\u001b[39;49m\u001b[43mrollback\u001b[49m\u001b[43m(\u001b[49m\u001b[43m_capture_exception\u001b[49m\u001b[38;5;241;43m=\u001b[39;49m\u001b[38;5;28;43;01mTrue\u001b[39;49;00m\u001b[43m)\u001b[49m\n",
      "File \u001b[1;32m~\\Documents\\mywebapps\\train_sqla\\.venv\\Lib\\site-packages\\sqlalchemy\\util\\langhelpers.py:146\u001b[0m, in \u001b[0;36msafe_reraise.__exit__\u001b[1;34m(self, type_, value, traceback)\u001b[0m\n\u001b[0;32m    144\u001b[0m     \u001b[38;5;28;01massert\u001b[39;00m exc_value \u001b[38;5;129;01mis\u001b[39;00m \u001b[38;5;129;01mnot\u001b[39;00m \u001b[38;5;28;01mNone\u001b[39;00m\n\u001b[0;32m    145\u001b[0m     \u001b[38;5;28mself\u001b[39m\u001b[38;5;241m.\u001b[39m_exc_info \u001b[38;5;241m=\u001b[39m \u001b[38;5;28;01mNone\u001b[39;00m  \u001b[38;5;66;03m# remove potential circular references\u001b[39;00m\n\u001b[1;32m--> 146\u001b[0m     \u001b[38;5;28;01mraise\u001b[39;00m exc_value\u001b[38;5;241m.\u001b[39mwith_traceback(exc_tb)\n\u001b[0;32m    147\u001b[0m \u001b[38;5;28;01melse\u001b[39;00m:\n\u001b[0;32m    148\u001b[0m     \u001b[38;5;28mself\u001b[39m\u001b[38;5;241m.\u001b[39m_exc_info \u001b[38;5;241m=\u001b[39m \u001b[38;5;28;01mNone\u001b[39;00m  \u001b[38;5;66;03m# remove potential circular references\u001b[39;00m\n",
      "File \u001b[1;32m~\\Documents\\mywebapps\\train_sqla\\.venv\\Lib\\site-packages\\sqlalchemy\\orm\\session.py:4448\u001b[0m, in \u001b[0;36mSession._flush\u001b[1;34m(self, objects)\u001b[0m\n\u001b[0;32m   4446\u001b[0m \u001b[38;5;28mself\u001b[39m\u001b[38;5;241m.\u001b[39m_warn_on_events \u001b[38;5;241m=\u001b[39m \u001b[38;5;28;01mTrue\u001b[39;00m\n\u001b[0;32m   4447\u001b[0m \u001b[38;5;28;01mtry\u001b[39;00m:\n\u001b[1;32m-> 4448\u001b[0m     \u001b[43mflush_context\u001b[49m\u001b[38;5;241;43m.\u001b[39;49m\u001b[43mexecute\u001b[49m\u001b[43m(\u001b[49m\u001b[43m)\u001b[49m\n\u001b[0;32m   4449\u001b[0m \u001b[38;5;28;01mfinally\u001b[39;00m:\n\u001b[0;32m   4450\u001b[0m     \u001b[38;5;28mself\u001b[39m\u001b[38;5;241m.\u001b[39m_warn_on_events \u001b[38;5;241m=\u001b[39m \u001b[38;5;28;01mFalse\u001b[39;00m\n",
      "File \u001b[1;32m~\\Documents\\mywebapps\\train_sqla\\.venv\\Lib\\site-packages\\sqlalchemy\\orm\\unitofwork.py:466\u001b[0m, in \u001b[0;36mUOWTransaction.execute\u001b[1;34m(self)\u001b[0m\n\u001b[0;32m    464\u001b[0m \u001b[38;5;28;01melse\u001b[39;00m:\n\u001b[0;32m    465\u001b[0m     \u001b[38;5;28;01mfor\u001b[39;00m rec \u001b[38;5;129;01min\u001b[39;00m topological\u001b[38;5;241m.\u001b[39msort(\u001b[38;5;28mself\u001b[39m\u001b[38;5;241m.\u001b[39mdependencies, postsort_actions):\n\u001b[1;32m--> 466\u001b[0m         \u001b[43mrec\u001b[49m\u001b[38;5;241;43m.\u001b[39;49m\u001b[43mexecute\u001b[49m\u001b[43m(\u001b[49m\u001b[38;5;28;43mself\u001b[39;49m\u001b[43m)\u001b[49m\n",
      "File \u001b[1;32m~\\Documents\\mywebapps\\train_sqla\\.venv\\Lib\\site-packages\\sqlalchemy\\orm\\unitofwork.py:679\u001b[0m, in \u001b[0;36mDeleteAll.execute\u001b[1;34m(self, uow)\u001b[0m\n\u001b[0;32m    677\u001b[0m \u001b[38;5;129m@util\u001b[39m\u001b[38;5;241m.\u001b[39mpreload_module(\u001b[38;5;124m\"\u001b[39m\u001b[38;5;124msqlalchemy.orm.persistence\u001b[39m\u001b[38;5;124m\"\u001b[39m)\n\u001b[0;32m    678\u001b[0m \u001b[38;5;28;01mdef\u001b[39;00m \u001b[38;5;21mexecute\u001b[39m(\u001b[38;5;28mself\u001b[39m, uow):\n\u001b[1;32m--> 679\u001b[0m     \u001b[43mutil\u001b[49m\u001b[38;5;241;43m.\u001b[39;49m\u001b[43mpreloaded\u001b[49m\u001b[38;5;241;43m.\u001b[39;49m\u001b[43morm_persistence\u001b[49m\u001b[38;5;241;43m.\u001b[39;49m\u001b[43mdelete_obj\u001b[49m\u001b[43m(\u001b[49m\n\u001b[0;32m    680\u001b[0m \u001b[43m        \u001b[49m\u001b[38;5;28;43mself\u001b[39;49m\u001b[38;5;241;43m.\u001b[39;49m\u001b[43mmapper\u001b[49m\u001b[43m,\u001b[49m\n\u001b[0;32m    681\u001b[0m \u001b[43m        \u001b[49m\u001b[43muow\u001b[49m\u001b[38;5;241;43m.\u001b[39;49m\u001b[43mstates_for_mapper_hierarchy\u001b[49m\u001b[43m(\u001b[49m\u001b[38;5;28;43mself\u001b[39;49m\u001b[38;5;241;43m.\u001b[39;49m\u001b[43mmapper\u001b[49m\u001b[43m,\u001b[49m\u001b[43m \u001b[49m\u001b[38;5;28;43;01mTrue\u001b[39;49;00m\u001b[43m,\u001b[49m\u001b[43m \u001b[49m\u001b[38;5;28;43;01mFalse\u001b[39;49;00m\u001b[43m)\u001b[49m\u001b[43m,\u001b[49m\n\u001b[0;32m    682\u001b[0m \u001b[43m        \u001b[49m\u001b[43muow\u001b[49m\u001b[43m,\u001b[49m\n\u001b[0;32m    683\u001b[0m \u001b[43m    \u001b[49m\u001b[43m)\u001b[49m\n",
      "File \u001b[1;32m~\\Documents\\mywebapps\\train_sqla\\.venv\\Lib\\site-packages\\sqlalchemy\\orm\\persistence.py:193\u001b[0m, in \u001b[0;36mdelete_obj\u001b[1;34m(base_mapper, states, uowtransaction)\u001b[0m\n\u001b[0;32m    187\u001b[0m         \u001b[38;5;28;01mcontinue\u001b[39;00m\n\u001b[0;32m    189\u001b[0m     delete \u001b[38;5;241m=\u001b[39m _collect_delete_commands(\n\u001b[0;32m    190\u001b[0m         base_mapper, uowtransaction, table, states_to_delete\n\u001b[0;32m    191\u001b[0m     )\n\u001b[1;32m--> 193\u001b[0m     \u001b[43m_emit_delete_statements\u001b[49m\u001b[43m(\u001b[49m\n\u001b[0;32m    194\u001b[0m \u001b[43m        \u001b[49m\u001b[43mbase_mapper\u001b[49m\u001b[43m,\u001b[49m\n\u001b[0;32m    195\u001b[0m \u001b[43m        \u001b[49m\u001b[43muowtransaction\u001b[49m\u001b[43m,\u001b[49m\n\u001b[0;32m    196\u001b[0m \u001b[43m        \u001b[49m\u001b[43mmapper\u001b[49m\u001b[43m,\u001b[49m\n\u001b[0;32m    197\u001b[0m \u001b[43m        \u001b[49m\u001b[43mtable\u001b[49m\u001b[43m,\u001b[49m\n\u001b[0;32m    198\u001b[0m \u001b[43m        \u001b[49m\u001b[43mdelete\u001b[49m\u001b[43m,\u001b[49m\n\u001b[0;32m    199\u001b[0m \u001b[43m    \u001b[49m\u001b[43m)\u001b[49m\n\u001b[0;32m    201\u001b[0m \u001b[38;5;28;01mfor\u001b[39;00m (\n\u001b[0;32m    202\u001b[0m     state,\n\u001b[0;32m    203\u001b[0m     state_dict,\n\u001b[1;32m   (...)\u001b[0m\n\u001b[0;32m    206\u001b[0m     update_version_id,\n\u001b[0;32m    207\u001b[0m ) \u001b[38;5;129;01min\u001b[39;00m states_to_delete:\n\u001b[0;32m    208\u001b[0m     mapper\u001b[38;5;241m.\u001b[39mdispatch\u001b[38;5;241m.\u001b[39mafter_delete(mapper, connection, state)\n",
      "File \u001b[1;32m~\\Documents\\mywebapps\\train_sqla\\.venv\\Lib\\site-packages\\sqlalchemy\\orm\\persistence.py:1465\u001b[0m, in \u001b[0;36m_emit_delete_statements\u001b[1;34m(base_mapper, uowtransaction, mapper, table, delete)\u001b[0m\n\u001b[0;32m   1461\u001b[0m         connection\u001b[38;5;241m.\u001b[39mexecute(\n\u001b[0;32m   1462\u001b[0m             statement, del_objects, execution_options\u001b[38;5;241m=\u001b[39mexecution_options\n\u001b[0;32m   1463\u001b[0m         )\n\u001b[0;32m   1464\u001b[0m \u001b[38;5;28;01melse\u001b[39;00m:\n\u001b[1;32m-> 1465\u001b[0m     c \u001b[38;5;241m=\u001b[39m \u001b[43mconnection\u001b[49m\u001b[38;5;241;43m.\u001b[39;49m\u001b[43mexecute\u001b[49m\u001b[43m(\u001b[49m\n\u001b[0;32m   1466\u001b[0m \u001b[43m        \u001b[49m\u001b[43mstatement\u001b[49m\u001b[43m,\u001b[49m\u001b[43m \u001b[49m\u001b[43mdel_objects\u001b[49m\u001b[43m,\u001b[49m\u001b[43m \u001b[49m\u001b[43mexecution_options\u001b[49m\u001b[38;5;241;43m=\u001b[39;49m\u001b[43mexecution_options\u001b[49m\n\u001b[0;32m   1467\u001b[0m \u001b[43m    \u001b[49m\u001b[43m)\u001b[49m\n\u001b[0;32m   1469\u001b[0m     \u001b[38;5;28;01mif\u001b[39;00m \u001b[38;5;129;01mnot\u001b[39;00m need_version_id:\n\u001b[0;32m   1470\u001b[0m         only_warn \u001b[38;5;241m=\u001b[39m \u001b[38;5;28;01mTrue\u001b[39;00m\n",
      "File \u001b[1;32m~\\Documents\\mywebapps\\train_sqla\\.venv\\Lib\\site-packages\\sqlalchemy\\engine\\base.py:1418\u001b[0m, in \u001b[0;36mConnection.execute\u001b[1;34m(self, statement, parameters, execution_options)\u001b[0m\n\u001b[0;32m   1416\u001b[0m     \u001b[38;5;28;01mraise\u001b[39;00m exc\u001b[38;5;241m.\u001b[39mObjectNotExecutableError(statement) \u001b[38;5;28;01mfrom\u001b[39;00m \u001b[38;5;21;01merr\u001b[39;00m\n\u001b[0;32m   1417\u001b[0m \u001b[38;5;28;01melse\u001b[39;00m:\n\u001b[1;32m-> 1418\u001b[0m     \u001b[38;5;28;01mreturn\u001b[39;00m \u001b[43mmeth\u001b[49m\u001b[43m(\u001b[49m\n\u001b[0;32m   1419\u001b[0m \u001b[43m        \u001b[49m\u001b[38;5;28;43mself\u001b[39;49m\u001b[43m,\u001b[49m\n\u001b[0;32m   1420\u001b[0m \u001b[43m        \u001b[49m\u001b[43mdistilled_parameters\u001b[49m\u001b[43m,\u001b[49m\n\u001b[0;32m   1421\u001b[0m \u001b[43m        \u001b[49m\u001b[43mexecution_options\u001b[49m\u001b[43m \u001b[49m\u001b[38;5;129;43;01mor\u001b[39;49;00m\u001b[43m \u001b[49m\u001b[43mNO_OPTIONS\u001b[49m\u001b[43m,\u001b[49m\n\u001b[0;32m   1422\u001b[0m \u001b[43m    \u001b[49m\u001b[43m)\u001b[49m\n",
      "File \u001b[1;32m~\\Documents\\mywebapps\\train_sqla\\.venv\\Lib\\site-packages\\sqlalchemy\\sql\\elements.py:515\u001b[0m, in \u001b[0;36mClauseElement._execute_on_connection\u001b[1;34m(self, connection, distilled_params, execution_options)\u001b[0m\n\u001b[0;32m    513\u001b[0m     \u001b[38;5;28;01mif\u001b[39;00m TYPE_CHECKING:\n\u001b[0;32m    514\u001b[0m         \u001b[38;5;28;01massert\u001b[39;00m \u001b[38;5;28misinstance\u001b[39m(\u001b[38;5;28mself\u001b[39m, Executable)\n\u001b[1;32m--> 515\u001b[0m     \u001b[38;5;28;01mreturn\u001b[39;00m \u001b[43mconnection\u001b[49m\u001b[38;5;241;43m.\u001b[39;49m\u001b[43m_execute_clauseelement\u001b[49m\u001b[43m(\u001b[49m\n\u001b[0;32m    516\u001b[0m \u001b[43m        \u001b[49m\u001b[38;5;28;43mself\u001b[39;49m\u001b[43m,\u001b[49m\u001b[43m \u001b[49m\u001b[43mdistilled_params\u001b[49m\u001b[43m,\u001b[49m\u001b[43m \u001b[49m\u001b[43mexecution_options\u001b[49m\n\u001b[0;32m    517\u001b[0m \u001b[43m    \u001b[49m\u001b[43m)\u001b[49m\n\u001b[0;32m    518\u001b[0m \u001b[38;5;28;01melse\u001b[39;00m:\n\u001b[0;32m    519\u001b[0m     \u001b[38;5;28;01mraise\u001b[39;00m exc\u001b[38;5;241m.\u001b[39mObjectNotExecutableError(\u001b[38;5;28mself\u001b[39m)\n",
      "File \u001b[1;32m~\\Documents\\mywebapps\\train_sqla\\.venv\\Lib\\site-packages\\sqlalchemy\\engine\\base.py:1640\u001b[0m, in \u001b[0;36mConnection._execute_clauseelement\u001b[1;34m(self, elem, distilled_parameters, execution_options)\u001b[0m\n\u001b[0;32m   1628\u001b[0m compiled_cache: Optional[CompiledCacheType] \u001b[38;5;241m=\u001b[39m execution_options\u001b[38;5;241m.\u001b[39mget(\n\u001b[0;32m   1629\u001b[0m     \u001b[38;5;124m\"\u001b[39m\u001b[38;5;124mcompiled_cache\u001b[39m\u001b[38;5;124m\"\u001b[39m, \u001b[38;5;28mself\u001b[39m\u001b[38;5;241m.\u001b[39mengine\u001b[38;5;241m.\u001b[39m_compiled_cache\n\u001b[0;32m   1630\u001b[0m )\n\u001b[0;32m   1632\u001b[0m compiled_sql, extracted_params, cache_hit \u001b[38;5;241m=\u001b[39m elem\u001b[38;5;241m.\u001b[39m_compile_w_cache(\n\u001b[0;32m   1633\u001b[0m     dialect\u001b[38;5;241m=\u001b[39mdialect,\n\u001b[0;32m   1634\u001b[0m     compiled_cache\u001b[38;5;241m=\u001b[39mcompiled_cache,\n\u001b[1;32m   (...)\u001b[0m\n\u001b[0;32m   1638\u001b[0m     linting\u001b[38;5;241m=\u001b[39m\u001b[38;5;28mself\u001b[39m\u001b[38;5;241m.\u001b[39mdialect\u001b[38;5;241m.\u001b[39mcompiler_linting \u001b[38;5;241m|\u001b[39m compiler\u001b[38;5;241m.\u001b[39mWARN_LINTING,\n\u001b[0;32m   1639\u001b[0m )\n\u001b[1;32m-> 1640\u001b[0m ret \u001b[38;5;241m=\u001b[39m \u001b[38;5;28;43mself\u001b[39;49m\u001b[38;5;241;43m.\u001b[39;49m\u001b[43m_execute_context\u001b[49m\u001b[43m(\u001b[49m\n\u001b[0;32m   1641\u001b[0m \u001b[43m    \u001b[49m\u001b[43mdialect\u001b[49m\u001b[43m,\u001b[49m\n\u001b[0;32m   1642\u001b[0m \u001b[43m    \u001b[49m\u001b[43mdialect\u001b[49m\u001b[38;5;241;43m.\u001b[39;49m\u001b[43mexecution_ctx_cls\u001b[49m\u001b[38;5;241;43m.\u001b[39;49m\u001b[43m_init_compiled\u001b[49m\u001b[43m,\u001b[49m\n\u001b[0;32m   1643\u001b[0m \u001b[43m    \u001b[49m\u001b[43mcompiled_sql\u001b[49m\u001b[43m,\u001b[49m\n\u001b[0;32m   1644\u001b[0m \u001b[43m    \u001b[49m\u001b[43mdistilled_parameters\u001b[49m\u001b[43m,\u001b[49m\n\u001b[0;32m   1645\u001b[0m \u001b[43m    \u001b[49m\u001b[43mexecution_options\u001b[49m\u001b[43m,\u001b[49m\n\u001b[0;32m   1646\u001b[0m \u001b[43m    \u001b[49m\u001b[43mcompiled_sql\u001b[49m\u001b[43m,\u001b[49m\n\u001b[0;32m   1647\u001b[0m \u001b[43m    \u001b[49m\u001b[43mdistilled_parameters\u001b[49m\u001b[43m,\u001b[49m\n\u001b[0;32m   1648\u001b[0m \u001b[43m    \u001b[49m\u001b[43melem\u001b[49m\u001b[43m,\u001b[49m\n\u001b[0;32m   1649\u001b[0m \u001b[43m    \u001b[49m\u001b[43mextracted_params\u001b[49m\u001b[43m,\u001b[49m\n\u001b[0;32m   1650\u001b[0m \u001b[43m    \u001b[49m\u001b[43mcache_hit\u001b[49m\u001b[38;5;241;43m=\u001b[39;49m\u001b[43mcache_hit\u001b[49m\u001b[43m,\u001b[49m\n\u001b[0;32m   1651\u001b[0m \u001b[43m\u001b[49m\u001b[43m)\u001b[49m\n\u001b[0;32m   1652\u001b[0m \u001b[38;5;28;01mif\u001b[39;00m has_events:\n\u001b[0;32m   1653\u001b[0m     \u001b[38;5;28mself\u001b[39m\u001b[38;5;241m.\u001b[39mdispatch\u001b[38;5;241m.\u001b[39mafter_execute(\n\u001b[0;32m   1654\u001b[0m         \u001b[38;5;28mself\u001b[39m,\n\u001b[0;32m   1655\u001b[0m         elem,\n\u001b[1;32m   (...)\u001b[0m\n\u001b[0;32m   1659\u001b[0m         ret,\n\u001b[0;32m   1660\u001b[0m     )\n",
      "File \u001b[1;32m~\\Documents\\mywebapps\\train_sqla\\.venv\\Lib\\site-packages\\sqlalchemy\\engine\\base.py:1846\u001b[0m, in \u001b[0;36mConnection._execute_context\u001b[1;34m(self, dialect, constructor, statement, parameters, execution_options, *args, **kw)\u001b[0m\n\u001b[0;32m   1844\u001b[0m     \u001b[38;5;28;01mreturn\u001b[39;00m \u001b[38;5;28mself\u001b[39m\u001b[38;5;241m.\u001b[39m_exec_insertmany_context(dialect, context)\n\u001b[0;32m   1845\u001b[0m \u001b[38;5;28;01melse\u001b[39;00m:\n\u001b[1;32m-> 1846\u001b[0m     \u001b[38;5;28;01mreturn\u001b[39;00m \u001b[38;5;28;43mself\u001b[39;49m\u001b[38;5;241;43m.\u001b[39;49m\u001b[43m_exec_single_context\u001b[49m\u001b[43m(\u001b[49m\n\u001b[0;32m   1847\u001b[0m \u001b[43m        \u001b[49m\u001b[43mdialect\u001b[49m\u001b[43m,\u001b[49m\u001b[43m \u001b[49m\u001b[43mcontext\u001b[49m\u001b[43m,\u001b[49m\u001b[43m \u001b[49m\u001b[43mstatement\u001b[49m\u001b[43m,\u001b[49m\u001b[43m \u001b[49m\u001b[43mparameters\u001b[49m\n\u001b[0;32m   1848\u001b[0m \u001b[43m    \u001b[49m\u001b[43m)\u001b[49m\n",
      "File \u001b[1;32m~\\Documents\\mywebapps\\train_sqla\\.venv\\Lib\\site-packages\\sqlalchemy\\engine\\base.py:1986\u001b[0m, in \u001b[0;36mConnection._exec_single_context\u001b[1;34m(self, dialect, context, statement, parameters)\u001b[0m\n\u001b[0;32m   1983\u001b[0m     result \u001b[38;5;241m=\u001b[39m context\u001b[38;5;241m.\u001b[39m_setup_result_proxy()\n\u001b[0;32m   1985\u001b[0m \u001b[38;5;28;01mexcept\u001b[39;00m \u001b[38;5;167;01mBaseException\u001b[39;00m \u001b[38;5;28;01mas\u001b[39;00m e:\n\u001b[1;32m-> 1986\u001b[0m     \u001b[38;5;28;43mself\u001b[39;49m\u001b[38;5;241;43m.\u001b[39;49m\u001b[43m_handle_dbapi_exception\u001b[49m\u001b[43m(\u001b[49m\n\u001b[0;32m   1987\u001b[0m \u001b[43m        \u001b[49m\u001b[43me\u001b[49m\u001b[43m,\u001b[49m\u001b[43m \u001b[49m\u001b[43mstr_statement\u001b[49m\u001b[43m,\u001b[49m\u001b[43m \u001b[49m\u001b[43meffective_parameters\u001b[49m\u001b[43m,\u001b[49m\u001b[43m \u001b[49m\u001b[43mcursor\u001b[49m\u001b[43m,\u001b[49m\u001b[43m \u001b[49m\u001b[43mcontext\u001b[49m\n\u001b[0;32m   1988\u001b[0m \u001b[43m    \u001b[49m\u001b[43m)\u001b[49m\n\u001b[0;32m   1990\u001b[0m \u001b[38;5;28;01mreturn\u001b[39;00m result\n",
      "File \u001b[1;32m~\\Documents\\mywebapps\\train_sqla\\.venv\\Lib\\site-packages\\sqlalchemy\\engine\\base.py:2355\u001b[0m, in \u001b[0;36mConnection._handle_dbapi_exception\u001b[1;34m(self, e, statement, parameters, cursor, context, is_sub_exec)\u001b[0m\n\u001b[0;32m   2353\u001b[0m \u001b[38;5;28;01melif\u001b[39;00m should_wrap:\n\u001b[0;32m   2354\u001b[0m     \u001b[38;5;28;01massert\u001b[39;00m sqlalchemy_exception \u001b[38;5;129;01mis\u001b[39;00m \u001b[38;5;129;01mnot\u001b[39;00m \u001b[38;5;28;01mNone\u001b[39;00m\n\u001b[1;32m-> 2355\u001b[0m     \u001b[38;5;28;01mraise\u001b[39;00m sqlalchemy_exception\u001b[38;5;241m.\u001b[39mwith_traceback(exc_info[\u001b[38;5;241m2\u001b[39m]) \u001b[38;5;28;01mfrom\u001b[39;00m \u001b[38;5;21;01me\u001b[39;00m\n\u001b[0;32m   2356\u001b[0m \u001b[38;5;28;01melse\u001b[39;00m:\n\u001b[0;32m   2357\u001b[0m     \u001b[38;5;28;01massert\u001b[39;00m exc_info[\u001b[38;5;241m1\u001b[39m] \u001b[38;5;129;01mis\u001b[39;00m \u001b[38;5;129;01mnot\u001b[39;00m \u001b[38;5;28;01mNone\u001b[39;00m\n",
      "File \u001b[1;32m~\\Documents\\mywebapps\\train_sqla\\.venv\\Lib\\site-packages\\sqlalchemy\\engine\\base.py:1967\u001b[0m, in \u001b[0;36mConnection._exec_single_context\u001b[1;34m(self, dialect, context, statement, parameters)\u001b[0m\n\u001b[0;32m   1965\u001b[0m                 \u001b[38;5;28;01mbreak\u001b[39;00m\n\u001b[0;32m   1966\u001b[0m     \u001b[38;5;28;01mif\u001b[39;00m \u001b[38;5;129;01mnot\u001b[39;00m evt_handled:\n\u001b[1;32m-> 1967\u001b[0m         \u001b[38;5;28;43mself\u001b[39;49m\u001b[38;5;241;43m.\u001b[39;49m\u001b[43mdialect\u001b[49m\u001b[38;5;241;43m.\u001b[39;49m\u001b[43mdo_execute\u001b[49m\u001b[43m(\u001b[49m\n\u001b[0;32m   1968\u001b[0m \u001b[43m            \u001b[49m\u001b[43mcursor\u001b[49m\u001b[43m,\u001b[49m\u001b[43m \u001b[49m\u001b[43mstr_statement\u001b[49m\u001b[43m,\u001b[49m\u001b[43m \u001b[49m\u001b[43meffective_parameters\u001b[49m\u001b[43m,\u001b[49m\u001b[43m \u001b[49m\u001b[43mcontext\u001b[49m\n\u001b[0;32m   1969\u001b[0m \u001b[43m        \u001b[49m\u001b[43m)\u001b[49m\n\u001b[0;32m   1971\u001b[0m \u001b[38;5;28;01mif\u001b[39;00m \u001b[38;5;28mself\u001b[39m\u001b[38;5;241m.\u001b[39m_has_events \u001b[38;5;129;01mor\u001b[39;00m \u001b[38;5;28mself\u001b[39m\u001b[38;5;241m.\u001b[39mengine\u001b[38;5;241m.\u001b[39m_has_events:\n\u001b[0;32m   1972\u001b[0m     \u001b[38;5;28mself\u001b[39m\u001b[38;5;241m.\u001b[39mdispatch\u001b[38;5;241m.\u001b[39mafter_cursor_execute(\n\u001b[0;32m   1973\u001b[0m         \u001b[38;5;28mself\u001b[39m,\n\u001b[0;32m   1974\u001b[0m         cursor,\n\u001b[1;32m   (...)\u001b[0m\n\u001b[0;32m   1978\u001b[0m         context\u001b[38;5;241m.\u001b[39mexecutemany,\n\u001b[0;32m   1979\u001b[0m     )\n",
      "File \u001b[1;32m~\\Documents\\mywebapps\\train_sqla\\.venv\\Lib\\site-packages\\sqlalchemy\\engine\\default.py:941\u001b[0m, in \u001b[0;36mDefaultDialect.do_execute\u001b[1;34m(self, cursor, statement, parameters, context)\u001b[0m\n\u001b[0;32m    940\u001b[0m \u001b[38;5;28;01mdef\u001b[39;00m \u001b[38;5;21mdo_execute\u001b[39m(\u001b[38;5;28mself\u001b[39m, cursor, statement, parameters, context\u001b[38;5;241m=\u001b[39m\u001b[38;5;28;01mNone\u001b[39;00m):\n\u001b[1;32m--> 941\u001b[0m     \u001b[43mcursor\u001b[49m\u001b[38;5;241;43m.\u001b[39;49m\u001b[43mexecute\u001b[49m\u001b[43m(\u001b[49m\u001b[43mstatement\u001b[49m\u001b[43m,\u001b[49m\u001b[43m \u001b[49m\u001b[43mparameters\u001b[49m\u001b[43m)\u001b[49m\n",
      "\u001b[1;31mIntegrityError\u001b[0m: (sqlite3.IntegrityError) FOREIGN KEY constraint failed\n[SQL: DELETE FROM histolossfile WHERE histolossfile.id = ?]\n[parameters: (1,)]\n(Background on this error at: https://sqlalche.me/e/20/gkpj)"
     ]
    }
   ],
   "source": [
    "delete_db_record(session, HistoLossFile, 1)"
   ]
  },
  {
   "cell_type": "code",
   "execution_count": null,
   "id": "3c99b32e-7e13-4f31-a694-760b0e24adba",
   "metadata": {},
   "outputs": [],
   "source": [
    "fm = session.scalars(select(FrequencyModel)).first()"
   ]
  },
  {
   "cell_type": "code",
   "execution_count": null,
   "id": "40da31df-8625-40b9-9ffa-0a0e19d9584d",
   "metadata": {},
   "outputs": [],
   "source": [
    "fm"
   ]
  },
  {
   "cell_type": "code",
   "execution_count": null,
   "id": "01d037d5-4c79-47eb-9cdd-072a18231ee4",
   "metadata": {},
   "outputs": [],
   "source": [
    "try:\n",
    "    session.delete(fm)\n",
    "    session.commit()\n",
    "except Exception as e:\n",
    "    session.rollback()\n",
    "    print(f\"An error occured: {e}\")\n",
    "    raise\n",
    "finally:\n",
    "    session.close()"
   ]
  },
  {
   "cell_type": "code",
   "execution_count": null,
   "id": "ea0d4b84-481c-4ab5-87a4-9eda08108598",
   "metadata": {},
   "outputs": [],
   "source": []
  },
  {
   "cell_type": "code",
   "execution_count": null,
   "id": "153442c4-d952-48af-a3bd-c598cc0cc6a3",
   "metadata": {},
   "outputs": [],
   "source": []
  }
 ],
 "metadata": {
  "kernelspec": {
   "display_name": "Python 3 (ipykernel)",
   "language": "python",
   "name": "python3"
  },
  "language_info": {
   "codemirror_mode": {
    "name": "ipython",
    "version": 3
   },
   "file_extension": ".py",
   "mimetype": "text/x-python",
   "name": "python",
   "nbconvert_exporter": "python",
   "pygments_lexer": "ipython3",
   "version": "3.12.3"
  }
 },
 "nbformat": 4,
 "nbformat_minor": 5
}
